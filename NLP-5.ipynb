{
 "cells": [
  {
   "cell_type": "code",
   "execution_count": 49,
   "metadata": {
    "colab": {
     "base_uri": "https://localhost:8080/"
    },
    "id": "yuZuU8L1HiCg",
    "outputId": "4144483e-9b1f-4e1d-97b4-244330e665cb"
   },
   "outputs": [
    {
     "name": "stdout",
     "output_type": "stream",
     "text": [
      "Requirement already satisfied: nltk in c:\\users\\prajy\\miniconda3\\lib\\site-packages (3.9.1)\n",
      "Requirement already satisfied: indic-nlp-library in c:\\users\\prajy\\miniconda3\\lib\\site-packages (0.92)\n",
      "Requirement already satisfied: click in c:\\users\\prajy\\miniconda3\\lib\\site-packages (from nltk) (8.1.7)\n",
      "Requirement already satisfied: joblib in c:\\users\\prajy\\miniconda3\\lib\\site-packages (from nltk) (1.4.2)\n",
      "Requirement already satisfied: regex>=2021.8.3 in c:\\users\\prajy\\miniconda3\\lib\\site-packages (from nltk) (2024.9.11)\n",
      "Requirement already satisfied: tqdm in c:\\users\\prajy\\miniconda3\\lib\\site-packages (from nltk) (4.65.0)\n",
      "Requirement already satisfied: sphinx-argparse in c:\\users\\prajy\\miniconda3\\lib\\site-packages (from indic-nlp-library) (0.5.2)\n",
      "Requirement already satisfied: sphinx-rtd-theme in c:\\users\\prajy\\miniconda3\\lib\\site-packages (from indic-nlp-library) (3.0.1)\n",
      "Requirement already satisfied: morfessor in c:\\users\\prajy\\miniconda3\\lib\\site-packages (from indic-nlp-library) (2.0.6)\n",
      "Requirement already satisfied: pandas in c:\\users\\prajy\\miniconda3\\lib\\site-packages (from indic-nlp-library) (2.2.3)\n",
      "Requirement already satisfied: numpy in c:\\users\\prajy\\miniconda3\\lib\\site-packages (from indic-nlp-library) (2.0.2)\n",
      "Requirement already satisfied: colorama in c:\\users\\prajy\\miniconda3\\lib\\site-packages (from click->nltk) (0.4.6)\n",
      "Requirement already satisfied: python-dateutil>=2.8.2 in c:\\users\\prajy\\miniconda3\\lib\\site-packages (from pandas->indic-nlp-library) (2.9.0)\n",
      "Requirement already satisfied: pytz>=2020.1 in c:\\users\\prajy\\miniconda3\\lib\\site-packages (from pandas->indic-nlp-library) (2024.2)\n",
      "Requirement already satisfied: tzdata>=2022.7 in c:\\users\\prajy\\miniconda3\\lib\\site-packages (from pandas->indic-nlp-library) (2024.2)\n",
      "Requirement already satisfied: sphinx>=5.1.0 in c:\\users\\prajy\\miniconda3\\lib\\site-packages (from sphinx-argparse->indic-nlp-library) (8.1.3)\n",
      "Requirement already satisfied: docutils>=0.19 in c:\\users\\prajy\\miniconda3\\lib\\site-packages (from sphinx-argparse->indic-nlp-library) (0.21.2)\n",
      "Requirement already satisfied: sphinxcontrib-jquery<5,>=4 in c:\\users\\prajy\\miniconda3\\lib\\site-packages (from sphinx-rtd-theme->indic-nlp-library) (4.1)\n",
      "Requirement already satisfied: six>=1.5 in c:\\users\\prajy\\miniconda3\\lib\\site-packages (from python-dateutil>=2.8.2->pandas->indic-nlp-library) (1.16.0)\n",
      "Requirement already satisfied: sphinxcontrib-applehelp>=1.0.7 in c:\\users\\prajy\\miniconda3\\lib\\site-packages (from sphinx>=5.1.0->sphinx-argparse->indic-nlp-library) (2.0.0)\n",
      "Requirement already satisfied: sphinxcontrib-devhelp>=1.0.6 in c:\\users\\prajy\\miniconda3\\lib\\site-packages (from sphinx>=5.1.0->sphinx-argparse->indic-nlp-library) (2.0.0)\n",
      "Requirement already satisfied: sphinxcontrib-htmlhelp>=2.0.6 in c:\\users\\prajy\\miniconda3\\lib\\site-packages (from sphinx>=5.1.0->sphinx-argparse->indic-nlp-library) (2.1.0)\n",
      "Requirement already satisfied: sphinxcontrib-jsmath>=1.0.1 in c:\\users\\prajy\\miniconda3\\lib\\site-packages (from sphinx>=5.1.0->sphinx-argparse->indic-nlp-library) (1.0.1)\n",
      "Requirement already satisfied: sphinxcontrib-qthelp>=1.0.6 in c:\\users\\prajy\\miniconda3\\lib\\site-packages (from sphinx>=5.1.0->sphinx-argparse->indic-nlp-library) (2.0.0)\n",
      "Requirement already satisfied: sphinxcontrib-serializinghtml>=1.1.9 in c:\\users\\prajy\\miniconda3\\lib\\site-packages (from sphinx>=5.1.0->sphinx-argparse->indic-nlp-library) (2.0.0)\n",
      "Requirement already satisfied: Jinja2>=3.1 in c:\\users\\prajy\\miniconda3\\lib\\site-packages (from sphinx>=5.1.0->sphinx-argparse->indic-nlp-library) (3.1.4)\n",
      "Requirement already satisfied: Pygments>=2.17 in c:\\users\\prajy\\miniconda3\\lib\\site-packages (from sphinx>=5.1.0->sphinx-argparse->indic-nlp-library) (2.18.0)\n",
      "Requirement already satisfied: snowballstemmer>=2.2 in c:\\users\\prajy\\miniconda3\\lib\\site-packages (from sphinx>=5.1.0->sphinx-argparse->indic-nlp-library) (2.2.0)\n",
      "Requirement already satisfied: babel>=2.13 in c:\\users\\prajy\\miniconda3\\lib\\site-packages (from sphinx>=5.1.0->sphinx-argparse->indic-nlp-library) (2.16.0)\n",
      "Requirement already satisfied: alabaster>=0.7.14 in c:\\users\\prajy\\miniconda3\\lib\\site-packages (from sphinx>=5.1.0->sphinx-argparse->indic-nlp-library) (1.0.0)\n",
      "Requirement already satisfied: imagesize>=1.3 in c:\\users\\prajy\\miniconda3\\lib\\site-packages (from sphinx>=5.1.0->sphinx-argparse->indic-nlp-library) (1.4.1)\n",
      "Requirement already satisfied: requests>=2.30.0 in c:\\users\\prajy\\miniconda3\\lib\\site-packages (from sphinx>=5.1.0->sphinx-argparse->indic-nlp-library) (2.31.0)\n",
      "Requirement already satisfied: packaging>=23.0 in c:\\users\\prajy\\miniconda3\\lib\\site-packages (from sphinx>=5.1.0->sphinx-argparse->indic-nlp-library) (23.1)\n",
      "Requirement already satisfied: MarkupSafe>=2.0 in c:\\users\\prajy\\miniconda3\\lib\\site-packages (from Jinja2>=3.1->sphinx>=5.1.0->sphinx-argparse->indic-nlp-library) (3.0.2)\n",
      "Requirement already satisfied: charset-normalizer<4,>=2 in c:\\users\\prajy\\miniconda3\\lib\\site-packages (from requests>=2.30.0->sphinx>=5.1.0->sphinx-argparse->indic-nlp-library) (2.0.4)\n",
      "Requirement already satisfied: idna<4,>=2.5 in c:\\users\\prajy\\miniconda3\\lib\\site-packages (from requests>=2.30.0->sphinx>=5.1.0->sphinx-argparse->indic-nlp-library) (3.4)\n",
      "Requirement already satisfied: urllib3<3,>=1.21.1 in c:\\users\\prajy\\miniconda3\\lib\\site-packages (from requests>=2.30.0->sphinx>=5.1.0->sphinx-argparse->indic-nlp-library) (2.1.0)\n",
      "Requirement already satisfied: certifi>=2017.4.17 in c:\\users\\prajy\\miniconda3\\lib\\site-packages (from requests>=2.30.0->sphinx>=5.1.0->sphinx-argparse->indic-nlp-library) (2024.8.30)\n"
     ]
    }
   ],
   "source": [
    "!pip install nltk indic-nlp-library\n"
   ]
  },
  {
   "cell_type": "code",
   "execution_count": 50,
   "metadata": {
    "id": "oxsz2yTeJqhv"
   },
   "outputs": [],
   "source": [
    "import nltk\n",
    "from indicnlp.tokenize import indic_tokenize\n",
    "from collections import Counter"
   ]
  },
  {
   "cell_type": "code",
   "execution_count": 51,
   "metadata": {
    "id": "HT4r3EPKKFBt"
   },
   "outputs": [],
   "source": [
    "hi_texts = [\n",
    "    \"इंटेल की स्थापना 1968 में रॉबर्ट नॉयस और गॉर्डन मूरे द्वारा की गई थी।\",\n",
    "    \"इंटेल ने 1971 में पहला माइक्रोप्रोसेसर, 4004, पेश किया।\",\n",
    "    \"इंटेल का 4004 माइक्रोप्रोसेसर कंप्यूटर क्रांति का एक महत्वपूर्ण मील का पत्थर था।\",\n",
    "    \"1972 में, इंटेल ने 8008 प्रोसेसर लॉन्च किया, जो 4004 का उन्नत संस्करण था।\",\n",
    "    \"इंटेल ने 1980 के दशक में पेंटियम प्रोसेसर को पेश किया, जो कंप्यूटर प्रोसेसिंग के क्षेत्र में एक बड़ा बदलाव था।\",\n",
    "    \"इंटेल के कोर i7 प्रोसेसर ने उच्च प्रदर्शन और ऊर्जा दक्षता को एक नया मानक स्थापित किया।\",\n",
    "    \"इंटेल ने 1993 में पहला पेंटियम प्रोसेसर पेश किया, जो मल्टीटास्किंग को बेहतर बनाने में मददगार था।\",\n",
    "    \"इंटेल ने 2006 में अपनी वि‍या प्रोसेसर श्रृंखला को प्रस्तुत किया, जो कॉर्पोरेट उपयोग के लिए डिजाइन की गई थी।\",\n",
    "    \"2008 में, इंटेल ने 45nm प्रोसेस तकनीक के साथ नए प्रोसेसर पेश किए।\",\n",
    "    \"आज इंटेल की प्रौद्योगिकी डेटा सेंटर से लेकर व्यक्तिगत कंप्यूटर तक, कई क्षेत्रों में महत्वपूर्ण भूमिका निभाती है।\"\n",
    "]"
   ]
  },
  {
   "cell_type": "code",
   "execution_count": 52,
   "metadata": {
    "id": "9OPEfVD3KMvN"
   },
   "outputs": [],
   "source": [
    "eng_texts = [\n",
    "    \"Intel was founded in 1968 by Robert Noyce and Gordon Moore.\"\n",
    "    \"In 1971, Intel introduced its first microprocessor, the 4004.\"\n",
    "    \"Intel's 4004 microprocessor was a significant milestone in the computer revolution.\"\n",
    "    \"In 1972, Intel launched the 8008 processor, which was an advanced version of the 4004.\"\n",
    "    \"In the 1980s, Intel introduced the Pentium processor, which was a major breakthrough in computer processing.\"\n",
    "    \"Intel's Core i7 processor set a new standard for high performance and energy efficiency.\"\n",
    "    \"Intel introduced the first Pentium processor in 1993, which helped improve multitasking.\"\n",
    "    \"In 2006, Intel presented its ViiA processor series, designed for corporate use.\"\n",
    "    \"In 2008, Intel introduced new processors with 45nm process technology.\"\n",
    "    \"Today, Intel's technology plays a crucial role in many areas, from data centers to personal computers.\"\n",
    "]"
   ]
  },
  {
   "cell_type": "code",
   "execution_count": 53,
   "metadata": {
    "colab": {
     "base_uri": "https://localhost:8080/"
    },
    "id": "-wb5ESAnKnVV",
    "outputId": "3a838960-2a64-41fb-a207-012e3cb5e911"
   },
   "outputs": [
    {
     "name": "stderr",
     "output_type": "stream",
     "text": [
      "[nltk_data] Downloading package punkt to\n",
      "[nltk_data]     C:\\Users\\prajy\\AppData\\Roaming\\nltk_data...\n",
      "[nltk_data]   Package punkt is already up-to-date!\n",
      "[nltk_data] Downloading package averaged_perceptron_tagger to\n",
      "[nltk_data]     C:\\Users\\prajy\\AppData\\Roaming\\nltk_data...\n",
      "[nltk_data]   Package averaged_perceptron_tagger is already up-to-\n",
      "[nltk_data]       date!\n",
      "[nltk_data] Downloading package averaged_perceptron_tagger_eng to\n",
      "[nltk_data]     C:\\Users\\prajy\\AppData\\Roaming\\nltk_data...\n",
      "[nltk_data]   Package averaged_perceptron_tagger_eng is already up-to-\n",
      "[nltk_data]       date!\n"
     ]
    },
    {
     "data": {
      "text/plain": [
       "True"
      ]
     },
     "execution_count": 53,
     "metadata": {},
     "output_type": "execute_result"
    }
   ],
   "source": [
    "nltk.download('punkt')\n",
    "nltk.download('averaged_perceptron_tagger')\n",
    "nltk.download('averaged_perceptron_tagger_eng')"
   ]
  },
  {
   "cell_type": "markdown",
   "metadata": {
    "id": "5aZyljVMKuS1"
   },
   "source": [
    "## English POS"
   ]
  },
  {
   "cell_type": "code",
   "execution_count": 54,
   "metadata": {
    "colab": {
     "base_uri": "https://localhost:8080/"
    },
    "id": "2O_UmUK_KdIl",
    "outputId": "a56f1ab5-dc8e-45d5-b97d-1af282148538"
   },
   "outputs": [
    {
     "name": "stdout",
     "output_type": "stream",
     "text": [
      "[('Intel', 'NNP'), ('was', 'VBD'), ('founded', 'VBN'), ('in', 'IN'), ('1968', 'CD'), ('by', 'IN'), ('Robert', 'NNP'), ('Noyce', 'NNP'), ('and', 'CC'), ('Gordon', 'NNP'), ('Moore.In', 'NNP'), ('1971', 'CD'), (',', ','), ('Intel', 'NNP'), ('introduced', 'VBD'), ('its', 'PRP$'), ('first', 'JJ'), ('microprocessor', 'NN'), (',', ','), ('the', 'DT'), ('4004.Intel', 'CD'), (\"'s\", 'POS'), ('4004', 'CD'), ('microprocessor', 'NN'), ('was', 'VBD'), ('a', 'DT'), ('significant', 'JJ'), ('milestone', 'NN'), ('in', 'IN'), ('the', 'DT'), ('computer', 'NN'), ('revolution.In', 'NN'), ('1972', 'CD'), (',', ','), ('Intel', 'NNP'), ('launched', 'VBD'), ('the', 'DT'), ('8008', 'CD'), ('processor', 'NN'), (',', ','), ('which', 'WDT'), ('was', 'VBD'), ('an', 'DT'), ('advanced', 'JJ'), ('version', 'NN'), ('of', 'IN'), ('the', 'DT'), ('4004.In', 'CD'), ('the', 'DT'), ('1980s', 'CD'), (',', ','), ('Intel', 'NNP'), ('introduced', 'VBD'), ('the', 'DT'), ('Pentium', 'NNP'), ('processor', 'NN'), (',', ','), ('which', 'WDT'), ('was', 'VBD'), ('a', 'DT'), ('major', 'JJ'), ('breakthrough', 'NN'), ('in', 'IN'), ('computer', 'NN'), ('processing.Intel', 'NN'), (\"'s\", 'POS'), ('Core', 'NNP'), ('i7', 'NN'), ('processor', 'NN'), ('set', 'VBN'), ('a', 'DT'), ('new', 'JJ'), ('standard', 'NN'), ('for', 'IN'), ('high', 'JJ'), ('performance', 'NN'), ('and', 'CC'), ('energy', 'NN'), ('efficiency.Intel', 'NN'), ('introduced', 'VBD'), ('the', 'DT'), ('first', 'JJ'), ('Pentium', 'NNP'), ('processor', 'NN'), ('in', 'IN'), ('1993', 'CD'), (',', ','), ('which', 'WDT'), ('helped', 'VBD'), ('improve', 'VB'), ('multitasking.In', 'NN'), ('2006', 'CD'), (',', ','), ('Intel', 'NNP'), ('presented', 'VBD'), ('its', 'PRP$'), ('ViiA', 'NNP'), ('processor', 'NN'), ('series', 'NN'), (',', ','), ('designed', 'VBN'), ('for', 'IN'), ('corporate', 'JJ'), ('use.In', 'JJ'), ('2008', 'CD'), (',', ','), ('Intel', 'NNP'), ('introduced', 'VBD'), ('new', 'JJ'), ('processors', 'NNS'), ('with', 'IN'), ('45nm', 'CD'), ('process', 'NN'), ('technology.Today', 'NN'), (',', ','), ('Intel', 'NNP'), (\"'s\", 'POS'), ('technology', 'NN'), ('plays', 'VBZ'), ('a', 'DT'), ('crucial', 'JJ'), ('role', 'NN'), ('in', 'IN'), ('many', 'JJ'), ('areas', 'NNS'), (',', ','), ('from', 'IN'), ('data', 'NN'), ('centers', 'NNS'), ('to', 'TO'), ('personal', 'JJ'), ('computers', 'NNS'), ('.', '.')]\n"
     ]
    }
   ],
   "source": [
    "for text in eng_texts:\n",
    "  tokens = nltk.word_tokenize(text)\n",
    "  pos_tags = nltk.pos_tag(tokens)\n",
    "  print(pos_tags)\n"
   ]
  },
  {
   "cell_type": "markdown",
   "metadata": {
    "id": "FIYh9M2wKw29"
   },
   "source": [
    "## Hindi POS"
   ]
  },
  {
   "cell_type": "code",
   "execution_count": 55,
   "metadata": {
    "colab": {
     "base_uri": "https://localhost:8080/"
    },
    "id": "Bpa8w1ZKKxl8",
    "outputId": "0be374b0-a86b-4a6f-8647-7d58ef0977d1"
   },
   "outputs": [
    {
     "name": "stderr",
     "output_type": "stream",
     "text": [
      "[nltk_data] Downloading package indian to\n",
      "[nltk_data]     C:\\Users\\prajy\\AppData\\Roaming\\nltk_data...\n",
      "[nltk_data]   Package indian is already up-to-date!\n"
     ]
    }
   ],
   "source": [
    "#case 1: Attempting to use NLTK library\n",
    "nltk.download('indian')\n",
    "from nltk.tag import tnt\n",
    "from nltk.corpus import indian\n",
    "train_data = indian.tagged_sents(\"hindi.pos\")\n",
    "tnt_pos_tagger = tnt.TnT()\n",
    "tnt_pos_tagger.train(train_data)"
   ]
  },
  {
   "cell_type": "code",
   "execution_count": 56,
   "metadata": {
    "colab": {
     "base_uri": "https://localhost:8080/"
    },
    "id": "J_sKiriqLwGl",
    "outputId": "7aca0bba-157d-4466-e245-7e9a0d4a2643"
   },
   "outputs": [
    {
     "name": "stdout",
     "output_type": "stream",
     "text": [
      "[('इंटेल', 'Unk'), ('की', 'PREP'), ('स्थापना', 'NN'), ('1968', 'Unk'), ('में', 'PREP'), ('रॉबर्ट', 'Unk'), ('नॉयस', 'Unk'), ('और', 'CC'), ('गॉर्डन', 'Unk'), ('मूरे', 'Unk'), ('द्वारा', 'PREP'), ('की', 'VFM'), ('गई', 'VAUX'), ('थी।', 'Unk')]\n",
      "[('इंटेल', 'Unk'), ('ने', 'PREP'), ('1971', 'Unk'), ('में', 'PREP'), ('पहला', 'JJ'), ('माइक्रोप्रोसेसर', 'Unk'), (',', 'PUNC'), ('4004', 'Unk'), (',', 'PUNC'), ('पेश', 'NVB'), ('किया।', 'Unk')]\n",
      "[('इंटेल', 'Unk'), ('का', 'PREP'), ('4004', 'Unk'), ('माइक्रोप्रोसेसर', 'Unk'), ('कंप्यूटर', 'Unk'), ('क्रांति', 'Unk'), ('का', 'PREP'), ('एक', 'QFNUM'), ('महत्वपूर्ण', 'JJ'), ('मील', 'Unk'), ('का', 'PREP'), ('पत्थर', 'Unk'), ('था।', 'Unk')]\n",
      "[('1972', 'Unk'), ('में', 'PREP'), (',', 'PUNC'), ('इंटेल', 'Unk'), ('ने', 'PREP'), ('8008', 'Unk'), ('प्रोसेसर', 'Unk'), ('लॉन्च', 'Unk'), ('किया', 'VFM'), (',', 'PUNC'), ('जो', 'PRP'), ('4004', 'Unk'), ('का', 'PREP'), ('उन्नत', 'Unk'), ('संस्करण', 'Unk'), ('था।', 'Unk')]\n",
      "[('इंटेल', 'Unk'), ('ने', 'PREP'), ('1980', 'Unk'), ('के', 'PREP'), ('दशक', 'Unk'), ('में', 'PREP'), ('पेंटियम', 'Unk'), ('प्रोसेसर', 'Unk'), ('को', 'PREP'), ('पेश', 'NVB'), ('किया', 'VFM'), (',', 'PUNC'), ('जो', 'PRP'), ('कंप्यूटर', 'Unk'), ('प्रोसेसिंग', 'Unk'), ('के', 'PREP'), ('क्षेत्र', 'NN'), ('में', 'PREP'), ('एक', 'QFNUM'), ('बड़ा', 'Unk'), ('बदलाव', 'Unk'), ('था।', 'Unk')]\n",
      "[('इंटेल', 'Unk'), ('के', 'PREP'), ('कोर', 'Unk'), ('i7', 'Unk'), ('प्रोसेसर', 'Unk'), ('ने', 'PREP'), ('उच्च', 'NNC'), ('प्रदर्शन', 'Unk'), ('और', 'CC'), ('ऊर्जा', 'Unk'), ('दक्षता', 'Unk'), ('को', 'PREP'), ('एक', 'QFNUM'), ('नया', 'JJ'), ('मानक', 'Unk'), ('स्थापित', 'JVB'), ('किया।', 'Unk')]\n",
      "[('इंटेल', 'Unk'), ('ने', 'PREP'), ('1993', 'Unk'), ('में', 'PREP'), ('पहला', 'JJ'), ('पेंटियम', 'Unk'), ('प्रोसेसर', 'Unk'), ('पेश', 'NVB'), ('किया', 'VFM'), (',', 'PUNC'), ('जो', 'PRP'), ('मल्टीटास्किंग', 'Unk'), ('को', 'PREP'), ('बेहतर', 'Unk'), ('बनाने', 'VNN'), ('में', 'PREP'), ('मददगार', 'Unk'), ('था।', 'Unk')]\n",
      "[('इंटेल', 'Unk'), ('ने', 'PREP'), ('2006', 'Unk'), ('में', 'PREP'), ('अपनी', 'PRP'), ('वि\\u200dया', 'Unk'), ('प्रोसेसर', 'Unk'), ('श्रृंखला', 'Unk'), ('को', 'PREP'), ('प्रस्तुत', 'JVB'), ('किया', 'VFM'), (',', 'PUNC'), ('जो', 'PRP'), ('कॉर्पोरेट', 'Unk'), ('उपयोग', 'NN'), ('के', 'PREP'), ('लिए', 'PREP'), ('डिजाइन', 'Unk'), ('की', 'VFM'), ('गई', 'VAUX'), ('थी।', 'Unk')]\n",
      "[('2008', 'Unk'), ('में', 'PREP'), (',', 'PUNC'), ('इंटेल', 'Unk'), ('ने', 'PREP'), ('45nm', 'Unk'), ('प्रोसेस', 'Unk'), ('तकनीक', 'Unk'), ('के', 'PREP'), ('साथ', 'PREP'), ('नए', 'JJ'), ('प्रोसेसर', 'Unk'), ('पेश', 'NVB'), ('किए।', 'Unk')]\n",
      "[('आज', 'NN'), ('इंटेल', 'Unk'), ('की', 'PREP'), ('प्रौद्योगिकी', 'Unk'), ('डेटा', 'Unk'), ('सेंटर', 'Unk'), ('से', 'PREP'), ('लेकर', 'VRB'), ('व्यक्तिगत', 'JJ'), ('कंप्यूटर', 'Unk'), ('तक', 'PREP'), (',', 'PUNC'), ('कई', 'QF'), ('क्षेत्रों', 'NN'), ('में', 'PREP'), ('महत्वपूर्ण', 'JJ'), ('भूमिका', 'Unk'), ('निभाती', 'Unk'), ('है।', 'Unk')]\n"
     ]
    }
   ],
   "source": [
    "for text in hi_texts:\n",
    "  tagged_words = (tnt_pos_tagger.tag(nltk.word_tokenize(text)))\n",
    "  print(tagged_words)"
   ]
  },
  {
   "cell_type": "code",
   "execution_count": 57,
   "metadata": {
    "id": "PdO0mHajM0gG"
   },
   "outputs": [],
   "source": [
    "# Case 2: trying out the manual way\n",
    "hindi_pos_dict = {\n",
    "    # Pronouns\n",
    "    \"मैं\": \"PRP\",        # Pronoun\n",
    "    \"हम\": \"PRP\",        # Pronoun\n",
    "    \"तू\": \"PRP\",        # Pronoun\n",
    "    \"वह\": \"PRP\",        # Pronoun\n",
    "\n",
    "    # Nouns\n",
    "    \"इंटेल\": \"NOUN\",    # Noun (Intel)\n",
    "    \"स्थापना\": \"NOUN\",  # Noun (establishment)\n",
    "    \"माइक्रोप्रोसेसर\": \"NOUN\",  # Noun (microprocessor)\n",
    "    \"संस्करण\": \"NOUN\",  # Noun (version)\n",
    "    \"प्रोसेसर\": \"NOUN\", # Noun (processor)\n",
    "    \"पेंटियम\": \"NOUN\",  # Noun (Pentium)\n",
    "    \"क्षेत्र\": \"NOUN\",   # Noun (field)\n",
    "    \"मानक\": \"NOUN\",     # Noun (standard)\n",
    "    \"मल्टीटास्किंग\": \"NOUN\", # Noun (multitasking)\n",
    "    \"श्रृंखला\": \"NOUN\", # Noun (series)\n",
    "    \"प्रौद्योगिकी\": \"NOUN\", # Noun (technology)\n",
    "    \"डेटा\": \"NOUN\",     # Noun (data)\n",
    "    \"सेंटर\": \"NOUN\",    # Noun (center)\n",
    "    \"कंप्यूटर\": \"NOUN\", # Noun (computer)\n",
    "    \"भूमिका\": \"NOUN\",   # Noun (role)\n",
    "\n",
    "\n",
    "    # Verbs\n",
    "    \"की\": \"VERB\",       # Verb (to be)\n",
    "    \"पेश\": \"VERB\",      # Verb (introduced)\n",
    "    \"लांच\": \"VERB\",     # Verb (launched)\n",
    "    \"स्थापित\": \"VERB\",  # Verb (established)\n",
    "    \"मददगार\": \"VERB\",   # Verb (helpful)\n",
    "    \"प्रस्तुत\": \"VERB\", # Verb (presented)\n",
    "    \"निवेश\": \"VERB\",    # Verb (invested)\n",
    "\n",
    "    # Adjectives\n",
    "    \"पहला\": \"ADJ\",      # Adjective (first)\n",
    "    \"उन्नत\": \"ADJ\",     # Adjective (advanced)\n",
    "    \"बड़ा\": \"ADJ\",       # Adjective (big)\n",
    "    \"उच्च\": \"ADJ\",       # Adjective (high)\n",
    "    \"नया\": \"ADJ\",        # Adjective (new)\n",
    "    \"महत्वपूर्ण\": \"ADJ\", # Adjective (important)\n",
    "\n",
    "    # Adpositions\n",
    "    \"में\": \"ADP\",       # Adposition (in)\n",
    "    \"का\": \"ADP\",        # Adposition (of)\n",
    "    \"से\": \"ADP\",        # Adposition (from)\n",
    "    \"पर\": \"ADP\",        # Adposition (on)\n",
    "\n",
    "    # Conjunctions\n",
    "    \"और\": \"CONJ\",       # Conjunction (and)\n",
    "    \"या\": \"CONJ\",        # Conjunction (or)\n",
    "    \"लेकिन\": \"CONJ\",    # Conjunction (but)\n",
    "\n",
    "    # Adverbs\n",
    "    \"आज\": \"ADV\",        # Adverb (today)\n",
    "    \"भी\": \"ADV\",        # Adverb (also)\n",
    "    \"नहीं\": \"ADV\",      # Adverb (not)\n",
    "    \"सभी\": \"ADV\",       # Adverb (all)\n",
    "\n",
    "    # Punctuation\n",
    "    \"।\": \"PUNCT\",       # Punctuation (full stop)\n",
    "    \",\": \"PUNCT\"        # Punctuation (comma)\n",
    "}"
   ]
  },
  {
   "cell_type": "code",
   "execution_count": 58,
   "metadata": {
    "colab": {
     "base_uri": "https://localhost:8080/"
    },
    "id": "CdOY627iNXed",
    "outputId": "569f4564-40d2-4f02-f7b5-07b0499fa5ca"
   },
   "outputs": [
    {
     "name": "stdout",
     "output_type": "stream",
     "text": [
      "['आज', 'इंटेल', 'की', 'प्रौद्योगिकी', 'डेटा', 'सेंटर', 'से', 'लेकर', 'व्यक्तिगत', 'कंप्यूटर', 'तक', ',', 'कई', 'क्षेत्रों', 'में', 'महत्वपूर्ण', 'भूमिका', 'निभाती', 'है।']\n"
     ]
    }
   ],
   "source": [
    "import re\n",
    "from nltk.tokenize import word_tokenize\n",
    "for text in hi_texts:\n",
    "  words = word_tokenize(text)\n",
    "\n",
    "print(words )"
   ]
  },
  {
   "cell_type": "code",
   "execution_count": 76,
   "metadata": {
    "colab": {
     "base_uri": "https://localhost:8080/"
    },
    "id": "d8FwjqttS-68",
    "outputId": "2afca57d-b64d-427a-ce85-8f5254034170"
   },
   "outputs": [
    {
     "name": "stdout",
     "output_type": "stream",
     "text": [
      "['1968']\n",
      "['1971', '4004']\n",
      "['4004']\n",
      "['1972', '8008', '4004']\n",
      "['1980']\n",
      "['7']\n",
      "['1993']\n",
      "['2006']\n",
      "['2008', '45']\n",
      "[]\n"
     ]
    },
    {
     "name": "stderr",
     "output_type": "stream",
     "text": [
      "<>:3: SyntaxWarning: invalid escape sequence '\\d'\n",
      "<>:3: SyntaxWarning: invalid escape sequence '\\d'\n",
      "C:\\Users\\prajy\\AppData\\Local\\Temp\\ipykernel_1112\\4015386942.py:3: SyntaxWarning: invalid escape sequence '\\d'\n",
      "  num = re.findall('\\d+',text)\n"
     ]
    }
   ],
   "source": [
    "num = []\n",
    "for text in hi_texts:\n",
    "  num = re.findall('\\d+',text)\n",
    "  print(num)"
   ]
  },
  {
   "cell_type": "code",
   "execution_count": 77,
   "metadata": {
    "id": "ci2i8gWLODZF"
   },
   "outputs": [],
   "source": [
    "def pos_tag_hindi_sentence(sentence):\n",
    "    # Tokenize the sentence by splitting on spaces and punctuation\n",
    "    import re\n",
    "    words = word_tokenize(sentence)\n",
    "\n",
    "    # List to hold POS tagged words\n",
    "    tagged_words = []\n",
    "\n",
    "    # Tag each word in the sentence\n",
    "    for word in words:\n",
    "        pos_tag = hindi_pos_dict.get(word, \"UNKNOWN\")\n",
    "        tagged_words.append((word, pos_tag))\n",
    "\n",
    "    return tagged_words"
   ]
  },
  {
   "cell_type": "code",
   "execution_count": 78,
   "metadata": {
    "colab": {
     "base_uri": "https://localhost:8080/"
    },
    "id": "D4EYtDFDQ07s",
    "outputId": "b09e96fa-b800-4700-955e-172d548e0667"
   },
   "outputs": [
    {
     "name": "stdout",
     "output_type": "stream",
     "text": [
      "[('इंटेल', 'NOUN'), ('की', 'VERB'), ('स्थापना', 'NOUN'), ('1968', 'UNKNOWN'), ('में', 'ADP'), ('रॉबर्ट', 'UNKNOWN'), ('नॉयस', 'UNKNOWN'), ('और', 'CONJ'), ('गॉर्डन', 'UNKNOWN'), ('मूरे', 'UNKNOWN'), ('द्वारा', 'UNKNOWN'), ('की', 'VERB'), ('गई', 'UNKNOWN'), ('थी।', 'UNKNOWN')]\n",
      "[('इंटेल', 'NOUN'), ('ने', 'UNKNOWN'), ('1971', 'UNKNOWN'), ('में', 'ADP'), ('पहला', 'ADJ'), ('माइक्रोप्रोसेसर', 'NOUN'), (',', 'PUNCT'), ('4004', 'UNKNOWN'), (',', 'PUNCT'), ('पेश', 'VERB'), ('किया।', 'UNKNOWN')]\n",
      "[('इंटेल', 'NOUN'), ('का', 'ADP'), ('4004', 'UNKNOWN'), ('माइक्रोप्रोसेसर', 'NOUN'), ('कंप्यूटर', 'NOUN'), ('क्रांति', 'UNKNOWN'), ('का', 'ADP'), ('एक', 'UNKNOWN'), ('महत्वपूर्ण', 'ADJ'), ('मील', 'UNKNOWN'), ('का', 'ADP'), ('पत्थर', 'UNKNOWN'), ('था।', 'UNKNOWN')]\n",
      "[('1972', 'UNKNOWN'), ('में', 'ADP'), (',', 'PUNCT'), ('इंटेल', 'NOUN'), ('ने', 'UNKNOWN'), ('8008', 'UNKNOWN'), ('प्रोसेसर', 'NOUN'), ('लॉन्च', 'UNKNOWN'), ('किया', 'UNKNOWN'), (',', 'PUNCT'), ('जो', 'UNKNOWN'), ('4004', 'UNKNOWN'), ('का', 'ADP'), ('उन्नत', 'ADJ'), ('संस्करण', 'NOUN'), ('था।', 'UNKNOWN')]\n",
      "[('इंटेल', 'NOUN'), ('ने', 'UNKNOWN'), ('1980', 'UNKNOWN'), ('के', 'UNKNOWN'), ('दशक', 'UNKNOWN'), ('में', 'ADP'), ('पेंटियम', 'NOUN'), ('प्रोसेसर', 'NOUN'), ('को', 'UNKNOWN'), ('पेश', 'VERB'), ('किया', 'UNKNOWN'), (',', 'PUNCT'), ('जो', 'UNKNOWN'), ('कंप्यूटर', 'NOUN'), ('प्रोसेसिंग', 'UNKNOWN'), ('के', 'UNKNOWN'), ('क्षेत्र', 'NOUN'), ('में', 'ADP'), ('एक', 'UNKNOWN'), ('बड़ा', 'ADJ'), ('बदलाव', 'UNKNOWN'), ('था।', 'UNKNOWN')]\n",
      "[('इंटेल', 'NOUN'), ('के', 'UNKNOWN'), ('कोर', 'UNKNOWN'), ('i7', 'UNKNOWN'), ('प्रोसेसर', 'NOUN'), ('ने', 'UNKNOWN'), ('उच्च', 'ADJ'), ('प्रदर्शन', 'UNKNOWN'), ('और', 'CONJ'), ('ऊर्जा', 'UNKNOWN'), ('दक्षता', 'UNKNOWN'), ('को', 'UNKNOWN'), ('एक', 'UNKNOWN'), ('नया', 'ADJ'), ('मानक', 'NOUN'), ('स्थापित', 'VERB'), ('किया।', 'UNKNOWN')]\n",
      "[('इंटेल', 'NOUN'), ('ने', 'UNKNOWN'), ('1993', 'UNKNOWN'), ('में', 'ADP'), ('पहला', 'ADJ'), ('पेंटियम', 'NOUN'), ('प्रोसेसर', 'NOUN'), ('पेश', 'VERB'), ('किया', 'UNKNOWN'), (',', 'PUNCT'), ('जो', 'UNKNOWN'), ('मल्टीटास्किंग', 'NOUN'), ('को', 'UNKNOWN'), ('बेहतर', 'UNKNOWN'), ('बनाने', 'UNKNOWN'), ('में', 'ADP'), ('मददगार', 'VERB'), ('था।', 'UNKNOWN')]\n",
      "[('इंटेल', 'NOUN'), ('ने', 'UNKNOWN'), ('2006', 'UNKNOWN'), ('में', 'ADP'), ('अपनी', 'UNKNOWN'), ('वि\\u200dया', 'UNKNOWN'), ('प्रोसेसर', 'NOUN'), ('श्रृंखला', 'NOUN'), ('को', 'UNKNOWN'), ('प्रस्तुत', 'VERB'), ('किया', 'UNKNOWN'), (',', 'PUNCT'), ('जो', 'UNKNOWN'), ('कॉर्पोरेट', 'UNKNOWN'), ('उपयोग', 'UNKNOWN'), ('के', 'UNKNOWN'), ('लिए', 'UNKNOWN'), ('डिजाइन', 'UNKNOWN'), ('की', 'VERB'), ('गई', 'UNKNOWN'), ('थी।', 'UNKNOWN')]\n",
      "[('2008', 'UNKNOWN'), ('में', 'ADP'), (',', 'PUNCT'), ('इंटेल', 'NOUN'), ('ने', 'UNKNOWN'), ('45nm', 'UNKNOWN'), ('प्रोसेस', 'UNKNOWN'), ('तकनीक', 'UNKNOWN'), ('के', 'UNKNOWN'), ('साथ', 'UNKNOWN'), ('नए', 'UNKNOWN'), ('प्रोसेसर', 'NOUN'), ('पेश', 'VERB'), ('किए।', 'UNKNOWN')]\n",
      "[('आज', 'ADV'), ('इंटेल', 'NOUN'), ('की', 'VERB'), ('प्रौद्योगिकी', 'NOUN'), ('डेटा', 'NOUN'), ('सेंटर', 'NOUN'), ('से', 'ADP'), ('लेकर', 'UNKNOWN'), ('व्यक्तिगत', 'UNKNOWN'), ('कंप्यूटर', 'NOUN'), ('तक', 'UNKNOWN'), (',', 'PUNCT'), ('कई', 'UNKNOWN'), ('क्षेत्रों', 'UNKNOWN'), ('में', 'ADP'), ('महत्वपूर्ण', 'ADJ'), ('भूमिका', 'NOUN'), ('निभाती', 'UNKNOWN'), ('है।', 'UNKNOWN')]\n"
     ]
    }
   ],
   "source": [
    "for text in hi_texts:\n",
    "    tagged_sentence = pos_tag_hindi_sentence(text)\n",
    "    print(tagged_sentence)"
   ]
  }
 ],
 "metadata": {
  "colab": {
   "provenance": []
  },
  "kernelspec": {
   "display_name": "base",
   "language": "python",
   "name": "python3"
  },
  "language_info": {
   "codemirror_mode": {
    "name": "ipython",
    "version": 3
   },
   "file_extension": ".py",
   "mimetype": "text/x-python",
   "name": "python",
   "nbconvert_exporter": "python",
   "pygments_lexer": "ipython3",
   "version": "3.12.2"
  }
 },
 "nbformat": 4,
 "nbformat_minor": 0
}
