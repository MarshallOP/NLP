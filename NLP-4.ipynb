{
 "cells": [
  {
   "cell_type": "code",
   "execution_count": 1,
   "metadata": {
    "colab": {
     "base_uri": "https://localhost:8080/"
    },
    "executionInfo": {
     "elapsed": 14839,
     "status": "ok",
     "timestamp": 1723569562494,
     "user": {
      "displayName": "Rishikesh Giridhar",
      "userId": "07665417154026799667"
     },
     "user_tz": -330
    },
    "id": "RQajd7FSvqv1",
    "outputId": "ad6ba9b1-308b-422b-a6bc-4e52e39eb729"
   },
   "outputs": [
    {
     "name": "stdout",
     "output_type": "stream",
     "text": [
      "Requirement already satisfied: indic-nlp-library in c:\\users\\prajy\\miniconda3\\lib\\site-packages (0.92)\n",
      "Requirement already satisfied: sphinx-argparse in c:\\users\\prajy\\miniconda3\\lib\\site-packages (from indic-nlp-library) (0.5.2)\n",
      "Requirement already satisfied: sphinx-rtd-theme in c:\\users\\prajy\\miniconda3\\lib\\site-packages (from indic-nlp-library) (3.0.1)\n",
      "Requirement already satisfied: morfessor in c:\\users\\prajy\\miniconda3\\lib\\site-packages (from indic-nlp-library) (2.0.6)\n",
      "Requirement already satisfied: pandas in c:\\users\\prajy\\miniconda3\\lib\\site-packages (from indic-nlp-library) (2.2.3)\n",
      "Requirement already satisfied: numpy in c:\\users\\prajy\\miniconda3\\lib\\site-packages (from indic-nlp-library) (2.0.2)\n",
      "Requirement already satisfied: python-dateutil>=2.8.2 in c:\\users\\prajy\\miniconda3\\lib\\site-packages (from pandas->indic-nlp-library) (2.9.0)\n",
      "Requirement already satisfied: pytz>=2020.1 in c:\\users\\prajy\\miniconda3\\lib\\site-packages (from pandas->indic-nlp-library) (2024.2)\n",
      "Requirement already satisfied: tzdata>=2022.7 in c:\\users\\prajy\\miniconda3\\lib\\site-packages (from pandas->indic-nlp-library) (2024.2)\n",
      "Requirement already satisfied: sphinx>=5.1.0 in c:\\users\\prajy\\miniconda3\\lib\\site-packages (from sphinx-argparse->indic-nlp-library) (8.1.3)\n",
      "Requirement already satisfied: docutils>=0.19 in c:\\users\\prajy\\miniconda3\\lib\\site-packages (from sphinx-argparse->indic-nlp-library) (0.21.2)\n",
      "Requirement already satisfied: sphinxcontrib-jquery<5,>=4 in c:\\users\\prajy\\miniconda3\\lib\\site-packages (from sphinx-rtd-theme->indic-nlp-library) (4.1)\n",
      "Requirement already satisfied: six>=1.5 in c:\\users\\prajy\\miniconda3\\lib\\site-packages (from python-dateutil>=2.8.2->pandas->indic-nlp-library) (1.16.0)\n",
      "Requirement already satisfied: sphinxcontrib-applehelp>=1.0.7 in c:\\users\\prajy\\miniconda3\\lib\\site-packages (from sphinx>=5.1.0->sphinx-argparse->indic-nlp-library) (2.0.0)\n",
      "Requirement already satisfied: sphinxcontrib-devhelp>=1.0.6 in c:\\users\\prajy\\miniconda3\\lib\\site-packages (from sphinx>=5.1.0->sphinx-argparse->indic-nlp-library) (2.0.0)\n",
      "Requirement already satisfied: sphinxcontrib-htmlhelp>=2.0.6 in c:\\users\\prajy\\miniconda3\\lib\\site-packages (from sphinx>=5.1.0->sphinx-argparse->indic-nlp-library) (2.1.0)\n",
      "Requirement already satisfied: sphinxcontrib-jsmath>=1.0.1 in c:\\users\\prajy\\miniconda3\\lib\\site-packages (from sphinx>=5.1.0->sphinx-argparse->indic-nlp-library) (1.0.1)\n",
      "Requirement already satisfied: sphinxcontrib-qthelp>=1.0.6 in c:\\users\\prajy\\miniconda3\\lib\\site-packages (from sphinx>=5.1.0->sphinx-argparse->indic-nlp-library) (2.0.0)\n",
      "Requirement already satisfied: sphinxcontrib-serializinghtml>=1.1.9 in c:\\users\\prajy\\miniconda3\\lib\\site-packages (from sphinx>=5.1.0->sphinx-argparse->indic-nlp-library) (2.0.0)\n",
      "Requirement already satisfied: Jinja2>=3.1 in c:\\users\\prajy\\miniconda3\\lib\\site-packages (from sphinx>=5.1.0->sphinx-argparse->indic-nlp-library) (3.1.4)\n",
      "Requirement already satisfied: Pygments>=2.17 in c:\\users\\prajy\\miniconda3\\lib\\site-packages (from sphinx>=5.1.0->sphinx-argparse->indic-nlp-library) (2.18.0)\n",
      "Requirement already satisfied: snowballstemmer>=2.2 in c:\\users\\prajy\\miniconda3\\lib\\site-packages (from sphinx>=5.1.0->sphinx-argparse->indic-nlp-library) (2.2.0)\n",
      "Requirement already satisfied: babel>=2.13 in c:\\users\\prajy\\miniconda3\\lib\\site-packages (from sphinx>=5.1.0->sphinx-argparse->indic-nlp-library) (2.16.0)\n",
      "Requirement already satisfied: alabaster>=0.7.14 in c:\\users\\prajy\\miniconda3\\lib\\site-packages (from sphinx>=5.1.0->sphinx-argparse->indic-nlp-library) (1.0.0)\n",
      "Requirement already satisfied: imagesize>=1.3 in c:\\users\\prajy\\miniconda3\\lib\\site-packages (from sphinx>=5.1.0->sphinx-argparse->indic-nlp-library) (1.4.1)\n",
      "Requirement already satisfied: requests>=2.30.0 in c:\\users\\prajy\\miniconda3\\lib\\site-packages (from sphinx>=5.1.0->sphinx-argparse->indic-nlp-library) (2.31.0)\n",
      "Requirement already satisfied: packaging>=23.0 in c:\\users\\prajy\\miniconda3\\lib\\site-packages (from sphinx>=5.1.0->sphinx-argparse->indic-nlp-library) (23.1)\n",
      "Requirement already satisfied: colorama>=0.4.6 in c:\\users\\prajy\\miniconda3\\lib\\site-packages (from sphinx>=5.1.0->sphinx-argparse->indic-nlp-library) (0.4.6)\n",
      "Requirement already satisfied: MarkupSafe>=2.0 in c:\\users\\prajy\\miniconda3\\lib\\site-packages (from Jinja2>=3.1->sphinx>=5.1.0->sphinx-argparse->indic-nlp-library) (3.0.2)\n",
      "Requirement already satisfied: charset-normalizer<4,>=2 in c:\\users\\prajy\\miniconda3\\lib\\site-packages (from requests>=2.30.0->sphinx>=5.1.0->sphinx-argparse->indic-nlp-library) (2.0.4)\n",
      "Requirement already satisfied: idna<4,>=2.5 in c:\\users\\prajy\\miniconda3\\lib\\site-packages (from requests>=2.30.0->sphinx>=5.1.0->sphinx-argparse->indic-nlp-library) (3.4)\n",
      "Requirement already satisfied: urllib3<3,>=1.21.1 in c:\\users\\prajy\\miniconda3\\lib\\site-packages (from requests>=2.30.0->sphinx>=5.1.0->sphinx-argparse->indic-nlp-library) (2.1.0)\n",
      "Requirement already satisfied: certifi>=2017.4.17 in c:\\users\\prajy\\miniconda3\\lib\\site-packages (from requests>=2.30.0->sphinx>=5.1.0->sphinx-argparse->indic-nlp-library) (2024.8.30)\n"
     ]
    }
   ],
   "source": [
    "!pip install indic-nlp-library"
   ]
  },
  {
   "cell_type": "code",
   "execution_count": 2,
   "metadata": {
    "colab": {
     "base_uri": "https://localhost:8080/"
    },
    "executionInfo": {
     "elapsed": 9,
     "status": "ok",
     "timestamp": 1723569562494,
     "user": {
      "displayName": "Rishikesh Giridhar",
      "userId": "07665417154026799667"
     },
     "user_tz": -330
    },
    "id": "OkuTYgx8v-Vh",
    "outputId": "d96b378b-6ce5-4cfc-a0a3-4ed41957ab79"
   },
   "outputs": [
    {
     "name": "stdout",
     "output_type": "stream",
     "text": [
      "Most common bigrams:\n",
      "('।', 'इंटेल'): 6\n",
      "('इंटेल', 'ने'): 6\n",
      "('था', '।'): 4\n",
      "('किया', ','): 4\n",
      "(',', 'जो'): 4\n",
      "('पेश', 'किया'): 3\n",
      "('इंटेल', 'की'): 2\n",
      "('की', 'गई'): 2\n",
      "('गई', 'थी'): 2\n",
      "('थी', '।'): 2\n",
      "\n",
      "Most common trigrams:\n",
      "('।', 'इंटेल', 'ने'): 4\n",
      "('किया', ',', 'जो'): 4\n",
      "('था', '।', 'इंटेल'): 3\n",
      "('की', 'गई', 'थी'): 2\n",
      "('गई', 'थी', '।'): 2\n",
      "('किया', '।', 'इंटेल'): 2\n",
      "('में', ',', 'इंटेल'): 2\n",
      "(',', 'इंटेल', 'ने'): 2\n",
      "('पेश', 'किया', ','): 2\n",
      "('इंटेल', 'की', 'स्थापना'): 1\n"
     ]
    }
   ],
   "source": [
    "from indicnlp.tokenize import indic_tokenize\n",
    "from collections import Counter\n",
    "\n",
    "# Hindi text data\n",
    "hi_texts = [\n",
    "    \"इंटेल की स्थापना 1968 में रॉबर्ट नॉयस और गॉर्डन मूरे द्वारा की गई थी।\",\n",
    "    \"इंटेल ने 1971 में पहला माइक्रोप्रोसेसर, 4004, पेश किया।\",\n",
    "    \"इंटेल का 4004 माइक्रोप्रोसेसर कंप्यूटर क्रांति का एक महत्वपूर्ण मील का पत्थर था।\",\n",
    "    \"1972 में, इंटेल ने 8008 प्रोसेसर लॉन्च किया, जो 4004 का उन्नत संस्करण था।\",\n",
    "    \"इंटेल ने 1980 के दशक में पेंटियम प्रोसेसर को पेश किया, जो कंप्यूटर प्रोसेसिंग के क्षेत्र में एक बड़ा बदलाव था।\",\n",
    "    \"इंटेल के कोर i7 प्रोसेसर ने उच्च प्रदर्शन और ऊर्जा दक्षता को एक नया मानक स्थापित किया।\",\n",
    "    \"इंटेल ने 1993 में पहला पेंटियम प्रोसेसर पेश किया, जो मल्टीटास्किंग को बेहतर बनाने में मददगार था।\",\n",
    "    \"इंटेल ने 2006 में अपनी वि‍या प्रोसेसर श्रृंखला को प्रस्तुत किया, जो कॉर्पोरेट उपयोग के लिए डिजाइन की गई थी।\",\n",
    "    \"2008 में, इंटेल ने 45nm प्रोसेस तकनीक के साथ नए प्रोसेसर पेश किए।\",\n",
    "    \"आज इंटेल की प्रौद्योगिकी डेटा सेंटर से लेकर व्यक्तिगत कंप्यूटर तक, कई क्षेत्रों में महत्वपूर्ण भूमिका निभाती है।\"\n",
    "]\n",
    "\n",
    "# Combine all texts into a single string\n",
    "combined_text = ' '.join(hi_texts)\n",
    "\n",
    "# Tokenize the text into words using IndicNLP\n",
    "tokens = indic_tokenize.trivial_tokenize(combined_text)\n",
    "\n",
    "# Function to generate bigrams\n",
    "def generate_bigrams(tokens):\n",
    "    return [(tokens[i], tokens[i+1]) for i in range(len(tokens) - 1)]\n",
    "\n",
    "# Function to generate trigrams\n",
    "def generate_trigrams(tokens):\n",
    "    return [(tokens[i], tokens[i+1], tokens[i+2]) for i in range(len(tokens) - 2)]\n",
    "\n",
    "# Generate bigrams and trigrams\n",
    "bi_grams = generate_bigrams(tokens)\n",
    "tri_grams = generate_trigrams(tokens)\n",
    "\n",
    "# Calculate frequency distributions\n",
    "bigram_freq = Counter(bi_grams)\n",
    "trigram_freq = Counter(tri_grams)\n",
    "\n",
    "# Print the most common bigrams and trigrams\n",
    "print(\"Most common bigrams:\")\n",
    "for bigram, freq in bigram_freq.most_common(10):\n",
    "    print(f\"{bigram}: {freq}\")\n",
    "\n",
    "print(\"\\nMost common trigrams:\")\n",
    "for trigram, freq in trigram_freq.most_common(10):\n",
    "    print(f\"{trigram}: {freq}\")\n"
   ]
  }
 ],
 "metadata": {
  "colab": {
   "authorship_tag": "ABX9TyOaTAfZy5D9RzUZfs7Ib9PY",
   "provenance": []
  },
  "kernelspec": {
   "display_name": "base",
   "language": "python",
   "name": "python3"
  },
  "language_info": {
   "codemirror_mode": {
    "name": "ipython",
    "version": 3
   },
   "file_extension": ".py",
   "mimetype": "text/x-python",
   "name": "python",
   "nbconvert_exporter": "python",
   "pygments_lexer": "ipython3",
   "version": "3.12.2"
  }
 },
 "nbformat": 4,
 "nbformat_minor": 0
}
