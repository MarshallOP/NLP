{
 "cells": [
  {
   "cell_type": "markdown",
   "metadata": {
    "id": "50r5r61ItNCv"
   },
   "source": [
    "## To Perform Stemming and Lemmatization"
   ]
  },
  {
   "cell_type": "code",
   "execution_count": 1,
   "metadata": {
    "colab": {
     "base_uri": "https://localhost:8080/",
     "height": 1000
    },
    "executionInfo": {
     "elapsed": 106276,
     "status": "ok",
     "timestamp": 1723569024063,
     "user": {
      "displayName": "Rishikesh",
      "userId": "11542055286791154796"
     },
     "user_tz": -330
    },
    "id": "I-TW39VUs-YX",
    "outputId": "6de7e776-48ea-41a0-9bd3-da6098e88307"
   },
   "outputs": [
    {
     "name": "stdout",
     "output_type": "stream",
     "text": [
      "Requirement already satisfied: nltk in c:\\users\\prajy\\miniconda3\\lib\\site-packages (3.9.1)\n",
      "Requirement already satisfied: inltk in c:\\users\\prajy\\miniconda3\\lib\\site-packages (0.9)\n",
      "Requirement already satisfied: indic-nlp-library in c:\\users\\prajy\\miniconda3\\lib\\site-packages (0.92)\n",
      "Requirement already satisfied: click in c:\\users\\prajy\\miniconda3\\lib\\site-packages (from nltk) (8.1.7)\n",
      "Requirement already satisfied: joblib in c:\\users\\prajy\\miniconda3\\lib\\site-packages (from nltk) (1.4.2)\n",
      "Requirement already satisfied: regex>=2021.8.3 in c:\\users\\prajy\\miniconda3\\lib\\site-packages (from nltk) (2024.9.11)\n",
      "Requirement already satisfied: tqdm in c:\\users\\prajy\\miniconda3\\lib\\site-packages (from nltk) (4.65.0)\n",
      "Requirement already satisfied: aiohttp>=3.5.4 in c:\\users\\prajy\\miniconda3\\lib\\site-packages (from inltk) (3.10.10)\n",
      "Requirement already satisfied: async-timeout>=3.0.1 in c:\\users\\prajy\\miniconda3\\lib\\site-packages (from inltk) (5.0.0)\n",
      "Requirement already satisfied: Pillow in c:\\users\\prajy\\miniconda3\\lib\\site-packages (from inltk) (11.0.0)\n",
      "Requirement already satisfied: beautifulsoup4 in c:\\users\\prajy\\miniconda3\\lib\\site-packages (from inltk) (4.12.3)\n",
      "Requirement already satisfied: bottleneck in c:\\users\\prajy\\miniconda3\\lib\\site-packages (from inltk) (1.4.2)\n",
      "Requirement already satisfied: fastprogress>=0.1.19 in c:\\users\\prajy\\miniconda3\\lib\\site-packages (from inltk) (1.0.3)\n",
      "Requirement already satisfied: matplotlib in c:\\users\\prajy\\miniconda3\\lib\\site-packages (from inltk) (3.9.2)\n",
      "Requirement already satisfied: numexpr in c:\\users\\prajy\\miniconda3\\lib\\site-packages (from inltk) (2.10.1)\n",
      "Requirement already satisfied: numpy>=1.15 in c:\\users\\prajy\\miniconda3\\lib\\site-packages (from inltk) (2.0.2)\n",
      "Requirement already satisfied: nvidia-ml-py3 in c:\\users\\prajy\\miniconda3\\lib\\site-packages (from inltk) (7.352.0)\n",
      "Requirement already satisfied: packaging in c:\\users\\prajy\\miniconda3\\lib\\site-packages (from inltk) (23.1)\n",
      "Requirement already satisfied: pandas in c:\\users\\prajy\\miniconda3\\lib\\site-packages (from inltk) (2.2.3)\n",
      "Requirement already satisfied: pyyaml in c:\\users\\prajy\\miniconda3\\lib\\site-packages (from inltk) (6.0.2)\n",
      "Requirement already satisfied: requests in c:\\users\\prajy\\miniconda3\\lib\\site-packages (from inltk) (2.31.0)\n",
      "Requirement already satisfied: scipy in c:\\users\\prajy\\miniconda3\\lib\\site-packages (from inltk) (1.14.1)\n",
      "Requirement already satisfied: spacy>=2.0.18 in c:\\users\\prajy\\miniconda3\\lib\\site-packages (from inltk) (3.8.2)\n",
      "Requirement already satisfied: typing in c:\\users\\prajy\\miniconda3\\lib\\site-packages (from inltk) (3.7.4.3)\n",
      "Requirement already satisfied: fastai==1.0.57 in c:\\users\\prajy\\miniconda3\\lib\\site-packages (from inltk) (1.0.57)\n",
      "Requirement already satisfied: sentencepiece in c:\\users\\prajy\\miniconda3\\lib\\site-packages (from inltk) (0.2.0)\n",
      "Requirement already satisfied: torch>=1.0.0 in c:\\users\\prajy\\miniconda3\\lib\\site-packages (from fastai==1.0.57->inltk) (2.5.1)\n",
      "Requirement already satisfied: torchvision in c:\\users\\prajy\\miniconda3\\lib\\site-packages (from fastai==1.0.57->inltk) (0.20.1)\n",
      "Requirement already satisfied: sphinx-argparse in c:\\users\\prajy\\miniconda3\\lib\\site-packages (from indic-nlp-library) (0.5.2)\n",
      "Requirement already satisfied: sphinx-rtd-theme in c:\\users\\prajy\\miniconda3\\lib\\site-packages (from indic-nlp-library) (3.0.1)\n",
      "Requirement already satisfied: morfessor in c:\\users\\prajy\\miniconda3\\lib\\site-packages (from indic-nlp-library) (2.0.6)\n",
      "Requirement already satisfied: aiohappyeyeballs>=2.3.0 in c:\\users\\prajy\\miniconda3\\lib\\site-packages (from aiohttp>=3.5.4->inltk) (2.4.3)\n",
      "Requirement already satisfied: aiosignal>=1.1.2 in c:\\users\\prajy\\miniconda3\\lib\\site-packages (from aiohttp>=3.5.4->inltk) (1.3.1)\n",
      "Requirement already satisfied: attrs>=17.3.0 in c:\\users\\prajy\\miniconda3\\lib\\site-packages (from aiohttp>=3.5.4->inltk) (24.2.0)\n",
      "Requirement already satisfied: frozenlist>=1.1.1 in c:\\users\\prajy\\miniconda3\\lib\\site-packages (from aiohttp>=3.5.4->inltk) (1.5.0)\n",
      "Requirement already satisfied: multidict<7.0,>=4.5 in c:\\users\\prajy\\miniconda3\\lib\\site-packages (from aiohttp>=3.5.4->inltk) (6.1.0)\n",
      "Requirement already satisfied: yarl<2.0,>=1.12.0 in c:\\users\\prajy\\miniconda3\\lib\\site-packages (from aiohttp>=3.5.4->inltk) (1.17.1)\n",
      "Requirement already satisfied: spacy-legacy<3.1.0,>=3.0.11 in c:\\users\\prajy\\miniconda3\\lib\\site-packages (from spacy>=2.0.18->inltk) (3.0.12)\n",
      "Requirement already satisfied: spacy-loggers<2.0.0,>=1.0.0 in c:\\users\\prajy\\miniconda3\\lib\\site-packages (from spacy>=2.0.18->inltk) (1.0.5)\n",
      "Requirement already satisfied: murmurhash<1.1.0,>=0.28.0 in c:\\users\\prajy\\miniconda3\\lib\\site-packages (from spacy>=2.0.18->inltk) (1.0.10)\n",
      "Requirement already satisfied: cymem<2.1.0,>=2.0.2 in c:\\users\\prajy\\miniconda3\\lib\\site-packages (from spacy>=2.0.18->inltk) (2.0.8)\n",
      "Requirement already satisfied: preshed<3.1.0,>=3.0.2 in c:\\users\\prajy\\miniconda3\\lib\\site-packages (from spacy>=2.0.18->inltk) (3.0.9)\n",
      "Requirement already satisfied: thinc<8.4.0,>=8.3.0 in c:\\users\\prajy\\miniconda3\\lib\\site-packages (from spacy>=2.0.18->inltk) (8.3.2)\n",
      "Requirement already satisfied: wasabi<1.2.0,>=0.9.1 in c:\\users\\prajy\\miniconda3\\lib\\site-packages (from spacy>=2.0.18->inltk) (1.1.3)\n",
      "Requirement already satisfied: srsly<3.0.0,>=2.4.3 in c:\\users\\prajy\\miniconda3\\lib\\site-packages (from spacy>=2.0.18->inltk) (2.4.8)\n",
      "Requirement already satisfied: catalogue<2.1.0,>=2.0.6 in c:\\users\\prajy\\miniconda3\\lib\\site-packages (from spacy>=2.0.18->inltk) (2.0.10)\n",
      "Requirement already satisfied: weasel<0.5.0,>=0.1.0 in c:\\users\\prajy\\miniconda3\\lib\\site-packages (from spacy>=2.0.18->inltk) (0.4.1)\n",
      "Requirement already satisfied: typer<1.0.0,>=0.3.0 in c:\\users\\prajy\\miniconda3\\lib\\site-packages (from spacy>=2.0.18->inltk) (0.12.5)\n",
      "Requirement already satisfied: pydantic!=1.8,!=1.8.1,<3.0.0,>=1.7.4 in c:\\users\\prajy\\miniconda3\\lib\\site-packages (from spacy>=2.0.18->inltk) (2.9.2)\n",
      "Requirement already satisfied: jinja2 in c:\\users\\prajy\\miniconda3\\lib\\site-packages (from spacy>=2.0.18->inltk) (3.1.4)\n",
      "Requirement already satisfied: setuptools in c:\\users\\prajy\\miniconda3\\lib\\site-packages (from spacy>=2.0.18->inltk) (68.2.2)\n",
      "Requirement already satisfied: langcodes<4.0.0,>=3.2.0 in c:\\users\\prajy\\miniconda3\\lib\\site-packages (from spacy>=2.0.18->inltk) (3.4.1)\n",
      "Requirement already satisfied: charset-normalizer<4,>=2 in c:\\users\\prajy\\miniconda3\\lib\\site-packages (from requests->inltk) (2.0.4)\n",
      "Requirement already satisfied: idna<4,>=2.5 in c:\\users\\prajy\\miniconda3\\lib\\site-packages (from requests->inltk) (3.4)\n",
      "Requirement already satisfied: urllib3<3,>=1.21.1 in c:\\users\\prajy\\miniconda3\\lib\\site-packages (from requests->inltk) (2.1.0)\n",
      "Requirement already satisfied: certifi>=2017.4.17 in c:\\users\\prajy\\miniconda3\\lib\\site-packages (from requests->inltk) (2024.8.30)\n",
      "Requirement already satisfied: colorama in c:\\users\\prajy\\miniconda3\\lib\\site-packages (from tqdm->nltk) (0.4.6)\n",
      "Requirement already satisfied: soupsieve>1.2 in c:\\users\\prajy\\miniconda3\\lib\\site-packages (from beautifulsoup4->inltk) (2.6)\n",
      "Requirement already satisfied: contourpy>=1.0.1 in c:\\users\\prajy\\miniconda3\\lib\\site-packages (from matplotlib->inltk) (1.3.0)\n",
      "Requirement already satisfied: cycler>=0.10 in c:\\users\\prajy\\miniconda3\\lib\\site-packages (from matplotlib->inltk) (0.12.1)\n",
      "Requirement already satisfied: fonttools>=4.22.0 in c:\\users\\prajy\\miniconda3\\lib\\site-packages (from matplotlib->inltk) (4.54.1)\n",
      "Requirement already satisfied: kiwisolver>=1.3.1 in c:\\users\\prajy\\miniconda3\\lib\\site-packages (from matplotlib->inltk) (1.4.7)\n",
      "Requirement already satisfied: pyparsing>=2.3.1 in c:\\users\\prajy\\miniconda3\\lib\\site-packages (from matplotlib->inltk) (3.2.0)\n",
      "Requirement already satisfied: python-dateutil>=2.7 in c:\\users\\prajy\\miniconda3\\lib\\site-packages (from matplotlib->inltk) (2.9.0)\n",
      "Requirement already satisfied: pytz>=2020.1 in c:\\users\\prajy\\miniconda3\\lib\\site-packages (from pandas->inltk) (2024.2)\n",
      "Requirement already satisfied: tzdata>=2022.7 in c:\\users\\prajy\\miniconda3\\lib\\site-packages (from pandas->inltk) (2024.2)\n",
      "Requirement already satisfied: sphinx>=5.1.0 in c:\\users\\prajy\\miniconda3\\lib\\site-packages (from sphinx-argparse->indic-nlp-library) (8.1.3)\n",
      "Requirement already satisfied: docutils>=0.19 in c:\\users\\prajy\\miniconda3\\lib\\site-packages (from sphinx-argparse->indic-nlp-library) (0.21.2)\n",
      "Requirement already satisfied: sphinxcontrib-jquery<5,>=4 in c:\\users\\prajy\\miniconda3\\lib\\site-packages (from sphinx-rtd-theme->indic-nlp-library) (4.1)\n",
      "Requirement already satisfied: language-data>=1.2 in c:\\users\\prajy\\miniconda3\\lib\\site-packages (from langcodes<4.0.0,>=3.2.0->spacy>=2.0.18->inltk) (1.2.0)\n",
      "Requirement already satisfied: annotated-types>=0.6.0 in c:\\users\\prajy\\miniconda3\\lib\\site-packages (from pydantic!=1.8,!=1.8.1,<3.0.0,>=1.7.4->spacy>=2.0.18->inltk) (0.7.0)\n",
      "Requirement already satisfied: pydantic-core==2.23.4 in c:\\users\\prajy\\miniconda3\\lib\\site-packages (from pydantic!=1.8,!=1.8.1,<3.0.0,>=1.7.4->spacy>=2.0.18->inltk) (2.23.4)\n",
      "Requirement already satisfied: typing-extensions>=4.6.1 in c:\\users\\prajy\\miniconda3\\lib\\site-packages (from pydantic!=1.8,!=1.8.1,<3.0.0,>=1.7.4->spacy>=2.0.18->inltk) (4.12.2)\n",
      "Requirement already satisfied: six>=1.5 in c:\\users\\prajy\\miniconda3\\lib\\site-packages (from python-dateutil>=2.7->matplotlib->inltk) (1.16.0)\n",
      "Requirement already satisfied: sphinxcontrib-applehelp>=1.0.7 in c:\\users\\prajy\\miniconda3\\lib\\site-packages (from sphinx>=5.1.0->sphinx-argparse->indic-nlp-library) (2.0.0)\n",
      "Requirement already satisfied: sphinxcontrib-devhelp>=1.0.6 in c:\\users\\prajy\\miniconda3\\lib\\site-packages (from sphinx>=5.1.0->sphinx-argparse->indic-nlp-library) (2.0.0)\n",
      "Requirement already satisfied: sphinxcontrib-htmlhelp>=2.0.6 in c:\\users\\prajy\\miniconda3\\lib\\site-packages (from sphinx>=5.1.0->sphinx-argparse->indic-nlp-library) (2.1.0)\n",
      "Requirement already satisfied: sphinxcontrib-jsmath>=1.0.1 in c:\\users\\prajy\\miniconda3\\lib\\site-packages (from sphinx>=5.1.0->sphinx-argparse->indic-nlp-library) (1.0.1)\n",
      "Requirement already satisfied: sphinxcontrib-qthelp>=1.0.6 in c:\\users\\prajy\\miniconda3\\lib\\site-packages (from sphinx>=5.1.0->sphinx-argparse->indic-nlp-library) (2.0.0)\n",
      "Requirement already satisfied: sphinxcontrib-serializinghtml>=1.1.9 in c:\\users\\prajy\\miniconda3\\lib\\site-packages (from sphinx>=5.1.0->sphinx-argparse->indic-nlp-library) (2.0.0)\n",
      "Requirement already satisfied: Pygments>=2.17 in c:\\users\\prajy\\miniconda3\\lib\\site-packages (from sphinx>=5.1.0->sphinx-argparse->indic-nlp-library) (2.18.0)\n",
      "Requirement already satisfied: snowballstemmer>=2.2 in c:\\users\\prajy\\miniconda3\\lib\\site-packages (from sphinx>=5.1.0->sphinx-argparse->indic-nlp-library) (2.2.0)\n",
      "Requirement already satisfied: babel>=2.13 in c:\\users\\prajy\\miniconda3\\lib\\site-packages (from sphinx>=5.1.0->sphinx-argparse->indic-nlp-library) (2.16.0)\n",
      "Requirement already satisfied: alabaster>=0.7.14 in c:\\users\\prajy\\miniconda3\\lib\\site-packages (from sphinx>=5.1.0->sphinx-argparse->indic-nlp-library) (1.0.0)\n",
      "Requirement already satisfied: imagesize>=1.3 in c:\\users\\prajy\\miniconda3\\lib\\site-packages (from sphinx>=5.1.0->sphinx-argparse->indic-nlp-library) (1.4.1)\n",
      "Requirement already satisfied: MarkupSafe>=2.0 in c:\\users\\prajy\\miniconda3\\lib\\site-packages (from jinja2->spacy>=2.0.18->inltk) (3.0.2)\n",
      "Requirement already satisfied: blis<1.1.0,>=1.0.0 in c:\\users\\prajy\\miniconda3\\lib\\site-packages (from thinc<8.4.0,>=8.3.0->spacy>=2.0.18->inltk) (1.0.1)\n",
      "Requirement already satisfied: confection<1.0.0,>=0.0.1 in c:\\users\\prajy\\miniconda3\\lib\\site-packages (from thinc<8.4.0,>=8.3.0->spacy>=2.0.18->inltk) (0.1.5)\n",
      "Requirement already satisfied: filelock in c:\\users\\prajy\\miniconda3\\lib\\site-packages (from torch>=1.0.0->fastai==1.0.57->inltk) (3.16.1)\n",
      "Requirement already satisfied: networkx in c:\\users\\prajy\\miniconda3\\lib\\site-packages (from torch>=1.0.0->fastai==1.0.57->inltk) (3.4.2)\n",
      "Requirement already satisfied: fsspec in c:\\users\\prajy\\miniconda3\\lib\\site-packages (from torch>=1.0.0->fastai==1.0.57->inltk) (2024.10.0)\n",
      "Requirement already satisfied: sympy==1.13.1 in c:\\users\\prajy\\miniconda3\\lib\\site-packages (from torch>=1.0.0->fastai==1.0.57->inltk) (1.13.1)\n",
      "Requirement already satisfied: mpmath<1.4,>=1.1.0 in c:\\users\\prajy\\miniconda3\\lib\\site-packages (from sympy==1.13.1->torch>=1.0.0->fastai==1.0.57->inltk) (1.3.0)\n",
      "Requirement already satisfied: shellingham>=1.3.0 in c:\\users\\prajy\\miniconda3\\lib\\site-packages (from typer<1.0.0,>=0.3.0->spacy>=2.0.18->inltk) (1.5.4)\n",
      "Requirement already satisfied: rich>=10.11.0 in c:\\users\\prajy\\miniconda3\\lib\\site-packages (from typer<1.0.0,>=0.3.0->spacy>=2.0.18->inltk) (13.9.4)\n",
      "Requirement already satisfied: cloudpathlib<1.0.0,>=0.7.0 in c:\\users\\prajy\\miniconda3\\lib\\site-packages (from weasel<0.5.0,>=0.1.0->spacy>=2.0.18->inltk) (0.20.0)\n",
      "Requirement already satisfied: smart-open<8.0.0,>=5.2.1 in c:\\users\\prajy\\miniconda3\\lib\\site-packages (from weasel<0.5.0,>=0.1.0->spacy>=2.0.18->inltk) (7.0.5)\n",
      "Requirement already satisfied: propcache>=0.2.0 in c:\\users\\prajy\\miniconda3\\lib\\site-packages (from yarl<2.0,>=1.12.0->aiohttp>=3.5.4->inltk) (0.2.0)\n",
      "Requirement already satisfied: marisa-trie>=0.7.7 in c:\\users\\prajy\\miniconda3\\lib\\site-packages (from language-data>=1.2->langcodes<4.0.0,>=3.2.0->spacy>=2.0.18->inltk) (1.2.1)\n",
      "Requirement already satisfied: markdown-it-py>=2.2.0 in c:\\users\\prajy\\miniconda3\\lib\\site-packages (from rich>=10.11.0->typer<1.0.0,>=0.3.0->spacy>=2.0.18->inltk) (3.0.0)\n",
      "Requirement already satisfied: wrapt in c:\\users\\prajy\\miniconda3\\lib\\site-packages (from smart-open<8.0.0,>=5.2.1->weasel<0.5.0,>=0.1.0->spacy>=2.0.18->inltk) (1.16.0)\n",
      "Requirement already satisfied: mdurl~=0.1 in c:\\users\\prajy\\miniconda3\\lib\\site-packages (from markdown-it-py>=2.2.0->rich>=10.11.0->typer<1.0.0,>=0.3.0->spacy>=2.0.18->inltk) (0.1.2)\n"
     ]
    }
   ],
   "source": [
    "!pip install nltk inltk indic-nlp-library\n",
    "import nltk\n",
    "import re\n",
    "from nltk.tokenize import word_tokenize\n",
    "from nltk.corpus import stopwords\n",
    "from nltk.stem import PorterStemmer, WordNetLemmatizer\n",
    "from nltk.data import find"
   ]
  },
  {
   "cell_type": "code",
   "execution_count": 2,
   "metadata": {
    "colab": {
     "base_uri": "https://localhost:8080/"
    },
    "executionInfo": {
     "elapsed": 1138,
     "status": "ok",
     "timestamp": 1723569056101,
     "user": {
      "displayName": "Rishikesh",
      "userId": "11542055286791154796"
     },
     "user_tz": -330
    },
    "id": "Ho4XTHoIuJty",
    "outputId": "917a0b31-a669-426b-e4bb-392d7b6231be"
   },
   "outputs": [
    {
     "name": "stderr",
     "output_type": "stream",
     "text": [
      "[nltk_data] Downloading package punkt to\n",
      "[nltk_data]     C:\\Users\\prajy\\AppData\\Roaming\\nltk_data...\n",
      "[nltk_data]   Package punkt is already up-to-date!\n",
      "[nltk_data] Downloading package stopwords to\n",
      "[nltk_data]     C:\\Users\\prajy\\AppData\\Roaming\\nltk_data...\n",
      "[nltk_data]   Package stopwords is already up-to-date!\n",
      "[nltk_data] Downloading package wordnet to\n",
      "[nltk_data]     C:\\Users\\prajy\\AppData\\Roaming\\nltk_data...\n",
      "[nltk_data]   Package wordnet is already up-to-date!\n"
     ]
    },
    {
     "data": {
      "text/plain": [
       "True"
      ]
     },
     "execution_count": 2,
     "metadata": {},
     "output_type": "execute_result"
    }
   ],
   "source": [
    "nltk.download(\"punkt\")\n",
    "nltk.download(\"stopwords\")\n",
    "nltk.download(\"wordnet\")"
   ]
  },
  {
   "cell_type": "code",
   "execution_count": 3,
   "metadata": {
    "executionInfo": {
     "elapsed": 21,
     "status": "ok",
     "timestamp": 1723569024064,
     "user": {
      "displayName": "Rishikesh",
      "userId": "11542055286791154796"
     },
     "user_tz": -330
    },
    "id": "2Wt1xVZztVpp"
   },
   "outputs": [],
   "source": [
    "hindi_text = \"NVIDIA का RTX 3060 (12GB) एक नया और शक्तिशाली ग्राफिक्स कार्ड है। यह गेमिंग और अन्य ग्राफिक्स कामों के लिए बहुत अच्छा है। इसमें 12GB की वीडियो मेमोरी है, जिससे आप उच्च गुणवत्ता वाले गेम्स और एप्लिकेशन आसानी से चला सकते हैं। RTX 3060 (12GB) में NVIDIA की नई तकनीकें शामिल हैं जैसे कि रे ट्रेसिंग और DLSS। ये तकनीकें गेम्स को और भी असली बनाती हैं और गेम खेलते समय अच्छा अनुभव देती हैं।\"\n",
    "eng_text = \"NVIDIA's RTX 3060 (12GB) is a new and powerful graphics card. It is excellent for gaming and other graphics-related tasks. It has 12GB of video memory, which allows you to run high-quality games and applications easily. The RTX 3060 (12GB) includes NVIDIA's latest technologies, such as ray tracing and DLSS. These technologies make games even more realistic and provide a great experience while playing.\""
   ]
  },
  {
   "cell_type": "markdown",
   "metadata": {
    "id": "c2kNIVfnt_xC"
   },
   "source": [
    "## Morphological Analysis in Hindi"
   ]
  },
  {
   "cell_type": "code",
   "execution_count": 4,
   "metadata": {
    "colab": {
     "base_uri": "https://localhost:8080/"
    },
    "executionInfo": {
     "elapsed": 19,
     "status": "ok",
     "timestamp": 1723569024064,
     "user": {
      "displayName": "Rishikesh",
      "userId": "11542055286791154796"
     },
     "user_tz": -330
    },
    "id": "lppX1rb1tY2z",
    "outputId": "32f15844-f02c-460c-812e-371bb0b896bf"
   },
   "outputs": [
    {
     "name": "stdout",
     "output_type": "stream",
     "text": [
      "['NVIDIA', 'का', 'RTX', '3060', '(', '12GB', ')', 'एक', 'नया', 'और', 'शक्तिशाली', 'ग्राफिक्स', 'कार्ड', 'है', '।', 'यह', 'गेमिंग', 'और', 'अन्य', 'ग्राफिक्स', 'कामों', 'के', 'लिए', 'बहुत', 'अच्छा', 'है', '।', 'इसमें', '12GB', 'की', 'वीडियो', 'मेमोरी', 'है', ',', 'जिससे', 'आप', 'उच्च', 'गुणवत्ता', 'वाले', 'गेम्स', 'और', 'एप्लिकेशन', 'आसानी', 'से', 'चला', 'सकते', 'हैं', '।', 'RTX', '3060', '(', '12GB', ')', 'में', 'NVIDIA', 'की', 'नई', 'तकनीकें', 'शामिल', 'हैं', 'जैसे', 'कि', 'रे', 'ट्रेसिंग', 'और', 'DLSS', '।', 'ये', 'तकनीकें', 'गेम्स', 'को', 'और', 'भी', 'असली', 'बनाती', 'हैं', 'और', 'गेम', 'खेलते', 'समय', 'अच्छा', 'अनुभव', 'देती', 'हैं', '।']\n"
     ]
    }
   ],
   "source": [
    "# using indic-nlp-library to stem\n",
    "\n",
    "from indicnlp.tokenize import indic_tokenize\n",
    "# tokenize\n",
    "hi_tokens = indic_tokenize.trivial_tokenize(hindi_text)\n",
    "print(hi_tokens)\n"
   ]
  },
  {
   "cell_type": "code",
   "execution_count": 5,
   "metadata": {
    "colab": {
     "base_uri": "https://localhost:8080/"
    },
    "executionInfo": {
     "elapsed": 19,
     "status": "ok",
     "timestamp": 1723569024065,
     "user": {
      "displayName": "Rishikesh",
      "userId": "11542055286791154796"
     },
     "user_tz": -330
    },
    "id": "-pMyLItAtdCO",
    "outputId": "216ad12e-c48c-47b7-faea-61543e21cbb0"
   },
   "outputs": [
    {
     "name": "stdout",
     "output_type": "stream",
     "text": [
      "['NVIDIA', 'क', 'RTX', '3060', '(', '12GB', ')', 'एक', 'नय', 'और', 'शक्तिशाल', 'ग्राफिक्स', 'कार्ड', 'है', '।', 'यह', 'गेमिंग', 'और', 'अन्य', 'ग्राफिक्स', 'काम', 'क', 'लिए', 'बहुत', 'अच्छ', 'है', '।', 'इसम', '12GB', 'क', 'वीडियो', 'मेमोर', 'है', ',', 'जिसस', 'आप', 'उच्च', 'गुणवत्', 'वाल', 'गेम्स', 'और', 'एप्लिकेशन', 'आसान', 'स', 'चल', 'सक', 'हैं', '।', 'RTX', '3060', '(', '12GB', ')', 'म', 'NVIDIA', 'क', 'नई', 'तकनीक', 'शामिल', 'हैं', 'जैस', 'कि', 'र', 'ट्रेसिंग', 'और', 'DLSS', '।', 'य', 'तकनीक', 'गेम्स', 'को', 'और', 'भ', 'असल', 'बन', 'हैं', 'और', 'गेम', 'खेल', 'समय', 'अच्छ', 'अनुभव', 'द', 'हैं', '।']\n"
     ]
    }
   ],
   "source": [
    "\n",
    "def hindi_stemmer(word):\n",
    "  suffixes = ['ता', 'ते', 'ती', 'कर', 'ने', 'ा', 'े', 'ी', 'ों', 'ें']\n",
    "  for suffix in suffixes:\n",
    "    if word.endswith(suffix):\n",
    "      word = word[:-len(suffix)]\n",
    "  return word\n",
    "\n",
    "stemmed_hi_words = [hindi_stemmer(word) for word in hi_tokens]\n",
    "print(stemmed_hi_words)\n"
   ]
  },
  {
   "cell_type": "code",
   "execution_count": 6,
   "metadata": {
    "colab": {
     "base_uri": "https://localhost:8080/"
    },
    "executionInfo": {
     "elapsed": 15,
     "status": "ok",
     "timestamp": 1723569024065,
     "user": {
      "displayName": "Rishikesh",
      "userId": "11542055286791154796"
     },
     "user_tz": -330
    },
    "id": "LDMsgdnyte1U",
    "outputId": "9537d616-9014-4afb-d4a5-cee23f7f22e5"
   },
   "outputs": [
    {
     "name": "stdout",
     "output_type": "stream",
     "text": [
      "Lemmatized Words: ['NVIDIA', 'क', 'RTX', '3060', '(', '12GB', ')', 'एक', 'नय', 'और', 'शक्तिशाल', 'ग्राफिक्स', 'कार्ड', 'है', '।', 'यह', 'गेमिंग', 'और', 'अन्य', 'ग्राफिक्स', 'काम', 'क', 'लिए', 'बहुत', 'अच्छ', 'है', '।', 'इसम', '12GB', 'क', 'वीडियो', 'मेमोर', 'है', ',', 'जिसस', 'आप', 'उच्च', 'गुणवत्', 'वाल', 'गेम्स', 'और', 'एप्लिकेशन', 'आसान', 'स', 'चल', 'सक', 'हैं', '।', 'RTX', '3060', '(', '12GB', ')', 'म', 'NVIDIA', 'क', 'नई', 'तकनीक', 'शामिल', 'हैं', 'जैस', 'कि', 'र', 'ट्रेसिंग', 'और', 'DLSS', '।', 'य', 'तकनीक', 'गेम्स', 'को', 'और', 'भ', 'असल', 'बना', 'हैं', 'और', 'गेम', 'खेल', 'समय', 'अच्छ', 'अनुभव', 'दे', 'हैं', '।']\n"
     ]
    }
   ],
   "source": [
    "def hindi_lemmatizer(word):\n",
    "    suffixes = {\n",
    "        'ता': '',\n",
    "        'ते': '',\n",
    "        'ती': '',\n",
    "        'कर': '',\n",
    "        'ने': '',\n",
    "        'ा': '',\n",
    "        'े': '',\n",
    "        'ी': '',\n",
    "        'ों': '',\n",
    "        'ें': '',\n",
    "    }\n",
    "    # Apply the lemmatization rules\n",
    "    for suffix, lemma in suffixes.items():\n",
    "      if word.endswith(suffix):\n",
    "        return word[:-len(suffix)] + lemma\n",
    "\n",
    "    # If no suffixes matched, return the original word\n",
    "    return word\n",
    "\n",
    "\n",
    "# Lemmatize the tokens\n",
    "lemmatized_hi_words = [hindi_lemmatizer(word) for word in hi_tokens]\n",
    "print(\"Lemmatized Words:\", lemmatized_hi_words)"
   ]
  },
  {
   "cell_type": "markdown",
   "metadata": {
    "id": "PVOSgINit3OY"
   },
   "source": [
    "## Morphological Analysis in English"
   ]
  },
  {
   "cell_type": "code",
   "execution_count": 7,
   "metadata": {
    "colab": {
     "base_uri": "https://localhost:8080/"
    },
    "executionInfo": {
     "elapsed": 1207,
     "status": "ok",
     "timestamp": 1723569058895,
     "user": {
      "displayName": "Rishikesh",
      "userId": "11542055286791154796"
     },
     "user_tz": -330
    },
    "id": "rBa6zlOAtx9I",
    "outputId": "9bd58328-9ca8-4268-a090-10fe95c47ab3"
   },
   "outputs": [
    {
     "name": "stdout",
     "output_type": "stream",
     "text": [
      "['nvidia', \"'s\", 'rtx', '3060', '(', '12gb', ')', 'is', 'a', 'new', 'and', 'power', 'graphic', 'card', '.', 'it', 'is', 'excel', 'for', 'game', 'and', 'other', 'graphics-rel', 'task', '.', 'it', 'ha', '12gb', 'of', 'video', 'memori', ',', 'which', 'allow', 'you', 'to', 'run', 'high-qual', 'game', 'and', 'applic', 'easili', '.', 'the', 'rtx', '3060', '(', '12gb', ')', 'includ', 'nvidia', \"'s\", 'latest', 'technolog', ',', 'such', 'as', 'ray', 'trace', 'and', 'dlss', '.', 'these', 'technolog', 'make', 'game', 'even', 'more', 'realist', 'and', 'provid', 'a', 'great', 'experi', 'while', 'play', '.']\n",
      "['NVIDIA', \"'s\", 'RTX', '3060', '(', '12GB', ')', 'new', 'powerful', 'graphic', 'card', '.', 'excellent', 'gaming', 'graphics-related', 'task', '.', 'ha', '12GB', 'video', 'memory', ',', 'allows', 'run', 'high-quality', 'game', 'application', 'easily', '.', 'RTX', '3060', '(', '12GB', ')', 'includes', 'NVIDIA', \"'s\", 'latest', 'technology', ',', 'ray', 'tracing', 'DLSS', '.', 'technology', 'make', 'game', 'even', 'realistic', 'provide', 'great', 'experience', 'playing', '.']\n"
     ]
    }
   ],
   "source": [
    "eng_tokens = word_tokenize(eng_text)\n",
    "\n",
    "# stemming\n",
    "\n",
    "stemmer = PorterStemmer()\n",
    "stemmed_words = [stemmer.stem(word) for word in eng_tokens]\n",
    "print(stemmed_words)\n",
    "\n",
    "# lemmatization\n",
    "lemmatizer = WordNetLemmatizer()\n",
    "lemmatized_words = [lemmatizer.lemmatize(word) for word in eng_tokens]\n",
    "\n",
    "# removing stopwords\n",
    "stop_words = set(stopwords.words('english'))\n",
    "filtered_words = [word for word in lemmatized_words if word.lower() not in stop_words]\n",
    "\n",
    "print(filtered_words)\n"
   ]
  }
 ],
 "metadata": {
  "colab": {
   "authorship_tag": "ABX9TyMm+KSJlXGWbF8nH0vgyDjR",
   "provenance": []
  },
  "kernelspec": {
   "display_name": "base",
   "language": "python",
   "name": "python3"
  },
  "language_info": {
   "codemirror_mode": {
    "name": "ipython",
    "version": 3
   },
   "file_extension": ".py",
   "mimetype": "text/x-python",
   "name": "python",
   "nbconvert_exporter": "python",
   "pygments_lexer": "ipython3",
   "version": "3.12.2"
  }
 },
 "nbformat": 4,
 "nbformat_minor": 0
}
