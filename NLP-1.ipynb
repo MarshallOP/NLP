{
 "cells": [
  {
   "cell_type": "code",
   "execution_count": 4,
   "metadata": {},
   "outputs": [
    {
     "name": "stdout",
     "output_type": "stream",
     "text": [
      "Requirement already satisfied: nltk in c:\\users\\prajy\\miniconda3\\lib\\site-packages (3.9.1)\n",
      "Requirement already satisfied: inltk in c:\\users\\prajy\\miniconda3\\lib\\site-packages (0.9)\n",
      "Requirement already satisfied: numpy in c:\\users\\prajy\\miniconda3\\lib\\site-packages (2.0.2)\n",
      "Requirement already satisfied: pandas in c:\\users\\prajy\\miniconda3\\lib\\site-packages (2.2.3)\n",
      "Requirement already satisfied: scikit-learn in c:\\users\\prajy\\miniconda3\\lib\\site-packages (1.5.2)\n",
      "Requirement already satisfied: click in c:\\users\\prajy\\miniconda3\\lib\\site-packages (from nltk) (8.1.7)\n",
      "Requirement already satisfied: joblib in c:\\users\\prajy\\miniconda3\\lib\\site-packages (from nltk) (1.4.2)\n",
      "Requirement already satisfied: regex>=2021.8.3 in c:\\users\\prajy\\miniconda3\\lib\\site-packages (from nltk) (2024.9.11)\n",
      "Requirement already satisfied: tqdm in c:\\users\\prajy\\miniconda3\\lib\\site-packages (from nltk) (4.65.0)\n",
      "Requirement already satisfied: aiohttp>=3.5.4 in c:\\users\\prajy\\miniconda3\\lib\\site-packages (from inltk) (3.10.10)\n",
      "Requirement already satisfied: async-timeout>=3.0.1 in c:\\users\\prajy\\miniconda3\\lib\\site-packages (from inltk) (5.0.0)\n",
      "Requirement already satisfied: Pillow in c:\\users\\prajy\\miniconda3\\lib\\site-packages (from inltk) (11.0.0)\n",
      "Requirement already satisfied: beautifulsoup4 in c:\\users\\prajy\\miniconda3\\lib\\site-packages (from inltk) (4.12.3)\n",
      "Requirement already satisfied: bottleneck in c:\\users\\prajy\\miniconda3\\lib\\site-packages (from inltk) (1.4.2)\n",
      "Requirement already satisfied: fastprogress>=0.1.19 in c:\\users\\prajy\\miniconda3\\lib\\site-packages (from inltk) (1.0.3)\n",
      "Requirement already satisfied: matplotlib in c:\\users\\prajy\\miniconda3\\lib\\site-packages (from inltk) (3.9.2)\n",
      "Requirement already satisfied: numexpr in c:\\users\\prajy\\miniconda3\\lib\\site-packages (from inltk) (2.10.1)\n",
      "Requirement already satisfied: nvidia-ml-py3 in c:\\users\\prajy\\miniconda3\\lib\\site-packages (from inltk) (7.352.0)\n",
      "Requirement already satisfied: packaging in c:\\users\\prajy\\miniconda3\\lib\\site-packages (from inltk) (23.1)\n",
      "Requirement already satisfied: pyyaml in c:\\users\\prajy\\miniconda3\\lib\\site-packages (from inltk) (6.0.2)\n",
      "Requirement already satisfied: requests in c:\\users\\prajy\\miniconda3\\lib\\site-packages (from inltk) (2.31.0)\n",
      "Requirement already satisfied: scipy in c:\\users\\prajy\\miniconda3\\lib\\site-packages (from inltk) (1.14.1)\n",
      "Requirement already satisfied: spacy>=2.0.18 in c:\\users\\prajy\\miniconda3\\lib\\site-packages (from inltk) (3.8.2)\n",
      "Requirement already satisfied: typing in c:\\users\\prajy\\miniconda3\\lib\\site-packages (from inltk) (3.7.4.3)\n",
      "Requirement already satisfied: fastai==1.0.57 in c:\\users\\prajy\\miniconda3\\lib\\site-packages (from inltk) (1.0.57)\n",
      "Requirement already satisfied: sentencepiece in c:\\users\\prajy\\miniconda3\\lib\\site-packages (from inltk) (0.2.0)\n",
      "Requirement already satisfied: torch>=1.0.0 in c:\\users\\prajy\\miniconda3\\lib\\site-packages (from fastai==1.0.57->inltk) (2.5.1)\n",
      "Requirement already satisfied: torchvision in c:\\users\\prajy\\miniconda3\\lib\\site-packages (from fastai==1.0.57->inltk) (0.20.1)\n",
      "Requirement already satisfied: python-dateutil>=2.8.2 in c:\\users\\prajy\\miniconda3\\lib\\site-packages (from pandas) (2.9.0)\n",
      "Requirement already satisfied: pytz>=2020.1 in c:\\users\\prajy\\miniconda3\\lib\\site-packages (from pandas) (2024.2)\n",
      "Requirement already satisfied: tzdata>=2022.7 in c:\\users\\prajy\\miniconda3\\lib\\site-packages (from pandas) (2024.2)\n",
      "Requirement already satisfied: threadpoolctl>=3.1.0 in c:\\users\\prajy\\miniconda3\\lib\\site-packages (from scikit-learn) (3.5.0)\n",
      "Requirement already satisfied: aiohappyeyeballs>=2.3.0 in c:\\users\\prajy\\miniconda3\\lib\\site-packages (from aiohttp>=3.5.4->inltk) (2.4.3)\n",
      "Requirement already satisfied: aiosignal>=1.1.2 in c:\\users\\prajy\\miniconda3\\lib\\site-packages (from aiohttp>=3.5.4->inltk) (1.3.1)\n",
      "Requirement already satisfied: attrs>=17.3.0 in c:\\users\\prajy\\miniconda3\\lib\\site-packages (from aiohttp>=3.5.4->inltk) (24.2.0)\n",
      "Requirement already satisfied: frozenlist>=1.1.1 in c:\\users\\prajy\\miniconda3\\lib\\site-packages (from aiohttp>=3.5.4->inltk) (1.5.0)\n",
      "Requirement already satisfied: multidict<7.0,>=4.5 in c:\\users\\prajy\\miniconda3\\lib\\site-packages (from aiohttp>=3.5.4->inltk) (6.1.0)\n",
      "Requirement already satisfied: yarl<2.0,>=1.12.0 in c:\\users\\prajy\\miniconda3\\lib\\site-packages (from aiohttp>=3.5.4->inltk) (1.17.1)\n",
      "Requirement already satisfied: six>=1.5 in c:\\users\\prajy\\miniconda3\\lib\\site-packages (from python-dateutil>=2.8.2->pandas) (1.16.0)\n",
      "Requirement already satisfied: spacy-legacy<3.1.0,>=3.0.11 in c:\\users\\prajy\\miniconda3\\lib\\site-packages (from spacy>=2.0.18->inltk) (3.0.12)\n",
      "Requirement already satisfied: spacy-loggers<2.0.0,>=1.0.0 in c:\\users\\prajy\\miniconda3\\lib\\site-packages (from spacy>=2.0.18->inltk) (1.0.5)\n",
      "Requirement already satisfied: murmurhash<1.1.0,>=0.28.0 in c:\\users\\prajy\\miniconda3\\lib\\site-packages (from spacy>=2.0.18->inltk) (1.0.10)\n",
      "Requirement already satisfied: cymem<2.1.0,>=2.0.2 in c:\\users\\prajy\\miniconda3\\lib\\site-packages (from spacy>=2.0.18->inltk) (2.0.8)\n",
      "Requirement already satisfied: preshed<3.1.0,>=3.0.2 in c:\\users\\prajy\\miniconda3\\lib\\site-packages (from spacy>=2.0.18->inltk) (3.0.9)\n",
      "Requirement already satisfied: thinc<8.4.0,>=8.3.0 in c:\\users\\prajy\\miniconda3\\lib\\site-packages (from spacy>=2.0.18->inltk) (8.3.2)\n",
      "Requirement already satisfied: wasabi<1.2.0,>=0.9.1 in c:\\users\\prajy\\miniconda3\\lib\\site-packages (from spacy>=2.0.18->inltk) (1.1.3)\n",
      "Requirement already satisfied: srsly<3.0.0,>=2.4.3 in c:\\users\\prajy\\miniconda3\\lib\\site-packages (from spacy>=2.0.18->inltk) (2.4.8)\n",
      "Requirement already satisfied: catalogue<2.1.0,>=2.0.6 in c:\\users\\prajy\\miniconda3\\lib\\site-packages (from spacy>=2.0.18->inltk) (2.0.10)\n",
      "Requirement already satisfied: weasel<0.5.0,>=0.1.0 in c:\\users\\prajy\\miniconda3\\lib\\site-packages (from spacy>=2.0.18->inltk) (0.4.1)\n",
      "Requirement already satisfied: typer<1.0.0,>=0.3.0 in c:\\users\\prajy\\miniconda3\\lib\\site-packages (from spacy>=2.0.18->inltk) (0.12.5)\n",
      "Requirement already satisfied: pydantic!=1.8,!=1.8.1,<3.0.0,>=1.7.4 in c:\\users\\prajy\\miniconda3\\lib\\site-packages (from spacy>=2.0.18->inltk) (2.9.2)\n",
      "Requirement already satisfied: jinja2 in c:\\users\\prajy\\miniconda3\\lib\\site-packages (from spacy>=2.0.18->inltk) (3.1.4)\n",
      "Requirement already satisfied: setuptools in c:\\users\\prajy\\miniconda3\\lib\\site-packages (from spacy>=2.0.18->inltk) (68.2.2)\n",
      "Requirement already satisfied: langcodes<4.0.0,>=3.2.0 in c:\\users\\prajy\\miniconda3\\lib\\site-packages (from spacy>=2.0.18->inltk) (3.4.1)\n",
      "Requirement already satisfied: charset-normalizer<4,>=2 in c:\\users\\prajy\\miniconda3\\lib\\site-packages (from requests->inltk) (2.0.4)\n",
      "Requirement already satisfied: idna<4,>=2.5 in c:\\users\\prajy\\miniconda3\\lib\\site-packages (from requests->inltk) (3.4)\n",
      "Requirement already satisfied: urllib3<3,>=1.21.1 in c:\\users\\prajy\\miniconda3\\lib\\site-packages (from requests->inltk) (2.1.0)\n",
      "Requirement already satisfied: certifi>=2017.4.17 in c:\\users\\prajy\\miniconda3\\lib\\site-packages (from requests->inltk) (2024.8.30)\n",
      "Requirement already satisfied: colorama in c:\\users\\prajy\\miniconda3\\lib\\site-packages (from tqdm->nltk) (0.4.6)\n",
      "Requirement already satisfied: soupsieve>1.2 in c:\\users\\prajy\\miniconda3\\lib\\site-packages (from beautifulsoup4->inltk) (2.6)\n",
      "Requirement already satisfied: contourpy>=1.0.1 in c:\\users\\prajy\\miniconda3\\lib\\site-packages (from matplotlib->inltk) (1.3.0)\n",
      "Requirement already satisfied: cycler>=0.10 in c:\\users\\prajy\\miniconda3\\lib\\site-packages (from matplotlib->inltk) (0.12.1)\n",
      "Requirement already satisfied: fonttools>=4.22.0 in c:\\users\\prajy\\miniconda3\\lib\\site-packages (from matplotlib->inltk) (4.54.1)\n",
      "Requirement already satisfied: kiwisolver>=1.3.1 in c:\\users\\prajy\\miniconda3\\lib\\site-packages (from matplotlib->inltk) (1.4.7)\n",
      "Requirement already satisfied: pyparsing>=2.3.1 in c:\\users\\prajy\\miniconda3\\lib\\site-packages (from matplotlib->inltk) (3.2.0)\n",
      "Requirement already satisfied: language-data>=1.2 in c:\\users\\prajy\\miniconda3\\lib\\site-packages (from langcodes<4.0.0,>=3.2.0->spacy>=2.0.18->inltk) (1.2.0)\n",
      "Requirement already satisfied: annotated-types>=0.6.0 in c:\\users\\prajy\\miniconda3\\lib\\site-packages (from pydantic!=1.8,!=1.8.1,<3.0.0,>=1.7.4->spacy>=2.0.18->inltk) (0.7.0)\n",
      "Requirement already satisfied: pydantic-core==2.23.4 in c:\\users\\prajy\\miniconda3\\lib\\site-packages (from pydantic!=1.8,!=1.8.1,<3.0.0,>=1.7.4->spacy>=2.0.18->inltk) (2.23.4)\n",
      "Requirement already satisfied: typing-extensions>=4.6.1 in c:\\users\\prajy\\miniconda3\\lib\\site-packages (from pydantic!=1.8,!=1.8.1,<3.0.0,>=1.7.4->spacy>=2.0.18->inltk) (4.12.2)\n",
      "Requirement already satisfied: blis<1.1.0,>=1.0.0 in c:\\users\\prajy\\miniconda3\\lib\\site-packages (from thinc<8.4.0,>=8.3.0->spacy>=2.0.18->inltk) (1.0.1)\n",
      "Requirement already satisfied: confection<1.0.0,>=0.0.1 in c:\\users\\prajy\\miniconda3\\lib\\site-packages (from thinc<8.4.0,>=8.3.0->spacy>=2.0.18->inltk) (0.1.5)\n",
      "Requirement already satisfied: filelock in c:\\users\\prajy\\miniconda3\\lib\\site-packages (from torch>=1.0.0->fastai==1.0.57->inltk) (3.16.1)\n",
      "Requirement already satisfied: networkx in c:\\users\\prajy\\miniconda3\\lib\\site-packages (from torch>=1.0.0->fastai==1.0.57->inltk) (3.4.2)\n",
      "Requirement already satisfied: fsspec in c:\\users\\prajy\\miniconda3\\lib\\site-packages (from torch>=1.0.0->fastai==1.0.57->inltk) (2024.10.0)\n",
      "Requirement already satisfied: sympy==1.13.1 in c:\\users\\prajy\\miniconda3\\lib\\site-packages (from torch>=1.0.0->fastai==1.0.57->inltk) (1.13.1)\n",
      "Requirement already satisfied: mpmath<1.4,>=1.1.0 in c:\\users\\prajy\\miniconda3\\lib\\site-packages (from sympy==1.13.1->torch>=1.0.0->fastai==1.0.57->inltk) (1.3.0)\n",
      "Requirement already satisfied: shellingham>=1.3.0 in c:\\users\\prajy\\miniconda3\\lib\\site-packages (from typer<1.0.0,>=0.3.0->spacy>=2.0.18->inltk) (1.5.4)\n",
      "Requirement already satisfied: rich>=10.11.0 in c:\\users\\prajy\\miniconda3\\lib\\site-packages (from typer<1.0.0,>=0.3.0->spacy>=2.0.18->inltk) (13.9.4)\n",
      "Requirement already satisfied: cloudpathlib<1.0.0,>=0.7.0 in c:\\users\\prajy\\miniconda3\\lib\\site-packages (from weasel<0.5.0,>=0.1.0->spacy>=2.0.18->inltk) (0.20.0)\n",
      "Requirement already satisfied: smart-open<8.0.0,>=5.2.1 in c:\\users\\prajy\\miniconda3\\lib\\site-packages (from weasel<0.5.0,>=0.1.0->spacy>=2.0.18->inltk) (7.0.5)\n",
      "Requirement already satisfied: propcache>=0.2.0 in c:\\users\\prajy\\miniconda3\\lib\\site-packages (from yarl<2.0,>=1.12.0->aiohttp>=3.5.4->inltk) (0.2.0)\n",
      "Requirement already satisfied: MarkupSafe>=2.0 in c:\\users\\prajy\\miniconda3\\lib\\site-packages (from jinja2->spacy>=2.0.18->inltk) (3.0.2)\n",
      "Requirement already satisfied: marisa-trie>=0.7.7 in c:\\users\\prajy\\miniconda3\\lib\\site-packages (from language-data>=1.2->langcodes<4.0.0,>=3.2.0->spacy>=2.0.18->inltk) (1.2.1)\n",
      "Requirement already satisfied: markdown-it-py>=2.2.0 in c:\\users\\prajy\\miniconda3\\lib\\site-packages (from rich>=10.11.0->typer<1.0.0,>=0.3.0->spacy>=2.0.18->inltk) (3.0.0)\n",
      "Requirement already satisfied: pygments<3.0.0,>=2.13.0 in c:\\users\\prajy\\miniconda3\\lib\\site-packages (from rich>=10.11.0->typer<1.0.0,>=0.3.0->spacy>=2.0.18->inltk) (2.18.0)\n",
      "Requirement already satisfied: wrapt in c:\\users\\prajy\\miniconda3\\lib\\site-packages (from smart-open<8.0.0,>=5.2.1->weasel<0.5.0,>=0.1.0->spacy>=2.0.18->inltk) (1.16.0)\n",
      "Requirement already satisfied: mdurl~=0.1 in c:\\users\\prajy\\miniconda3\\lib\\site-packages (from markdown-it-py>=2.2.0->rich>=10.11.0->typer<1.0.0,>=0.3.0->spacy>=2.0.18->inltk) (0.1.2)\n",
      "Note: you may need to restart the kernel to use updated packages.\n"
     ]
    }
   ],
   "source": [
    "pip install nltk inltk numpy pandas scikit-learn"
   ]
  },
  {
   "cell_type": "code",
   "execution_count": 5,
   "metadata": {},
   "outputs": [],
   "source": [
    "import nltk.stem.wordnet\n",
    "from nltk.stem.porter import *\n",
    "from nltk.stem import WordNetLemmatizer\n",
    "from nltk import word_tokenize\n"
   ]
  },
  {
   "cell_type": "code",
   "execution_count": 6,
   "metadata": {},
   "outputs": [
    {
     "name": "stderr",
     "output_type": "stream",
     "text": [
      "[nltk_data] Downloading package punkt to\n",
      "[nltk_data]     C:\\Users\\prajy\\AppData\\Roaming\\nltk_data...\n",
      "[nltk_data]   Package punkt is already up-to-date!\n",
      "[nltk_data] Downloading package punkt_tab to\n",
      "[nltk_data]     C:\\Users\\prajy\\AppData\\Roaming\\nltk_data...\n",
      "[nltk_data]   Package punkt_tab is already up-to-date!\n"
     ]
    },
    {
     "data": {
      "text/plain": [
       "True"
      ]
     },
     "execution_count": 6,
     "metadata": {},
     "output_type": "execute_result"
    }
   ],
   "source": [
    "nltk.download('punkt')\n",
    "nltk.download('punkt_tab')"
   ]
  },
  {
   "cell_type": "code",
   "execution_count": 7,
   "metadata": {},
   "outputs": [],
   "source": [
    "wnl = WordNetLemmatizer()"
   ]
  },
  {
   "cell_type": "code",
   "execution_count": 8,
   "metadata": {},
   "outputs": [],
   "source": [
    "sent = \"Jhon is a developer who likes to eat apples. He is proficient in C++.\""
   ]
  },
  {
   "cell_type": "code",
   "execution_count": 9,
   "metadata": {},
   "outputs": [
    {
     "data": {
      "text/plain": [
       "['Jhon',\n",
       " 'is',\n",
       " 'a',\n",
       " 'developer',\n",
       " 'who',\n",
       " 'likes',\n",
       " 'to',\n",
       " 'eat',\n",
       " 'apples',\n",
       " '.',\n",
       " 'He',\n",
       " 'is',\n",
       " 'proficient',\n",
       " 'in',\n",
       " 'C++',\n",
       " '.']"
      ]
     },
     "execution_count": 9,
     "metadata": {},
     "output_type": "execute_result"
    }
   ],
   "source": [
    "def tok(sent):\n",
    "    tokword = word_tokenize(sent)\n",
    "    return tokword\n",
    "\n",
    "\n",
    "tok(sent)"
   ]
  },
  {
   "cell_type": "code",
   "execution_count": 10,
   "metadata": {},
   "outputs": [
    {
     "data": {
      "text/plain": [
       "\"['jhon', 'is', 'a', 'developer', 'who', 'likes', 'to', 'eat', 'apples', '.', 'he', 'is', 'proficient', 'in', 'c++', '.']\""
      ]
     },
     "execution_count": 10,
     "metadata": {},
     "output_type": "execute_result"
    }
   ],
   "source": [
    "def stem(sent):\n",
    "    stem = PorterStemmer()\n",
    "    stw = stem.stem(str(tok(sent)).lower())\n",
    "    return stw\n",
    "\n",
    "stem(sent)"
   ]
  },
  {
   "cell_type": "code",
   "execution_count": 11,
   "metadata": {},
   "outputs": [
    {
     "data": {
      "text/plain": [
       "\"['jhon', 'is', 'a', 'developer', 'who', 'likes', 'to', 'eat', 'apples', '.', 'he', 'is', 'proficient', 'in', 'c++', '.']\""
      ]
     },
     "execution_count": 11,
     "metadata": {},
     "output_type": "execute_result"
    }
   ],
   "source": [
    "def lem(sent):\n",
    "    lemm = WordNetLemmatizer()\n",
    "    lem = lemm.lemmatize(str(tok(sent)).lower())\n",
    "    return lem\n",
    "\n",
    "lem(sent)"
   ]
  }
 ],
 "metadata": {
  "kernelspec": {
   "display_name": "base",
   "language": "python",
   "name": "python3"
  },
  "language_info": {
   "codemirror_mode": {
    "name": "ipython",
    "version": 3
   },
   "file_extension": ".py",
   "mimetype": "text/x-python",
   "name": "python",
   "nbconvert_exporter": "python",
   "pygments_lexer": "ipython3",
   "version": "3.12.2"
  },
  "orig_nbformat": 4
 },
 "nbformat": 4,
 "nbformat_minor": 2
}
