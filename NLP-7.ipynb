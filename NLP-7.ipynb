{
 "cells": [
  {
   "cell_type": "code",
   "execution_count": 1,
   "metadata": {
    "executionInfo": {
     "elapsed": 541,
     "status": "ok",
     "timestamp": 1727236972980,
     "user": {
      "displayName": "Rishikesh Giridhar",
      "userId": "07665417154026799667"
     },
     "user_tz": -330
    },
    "id": "cZxf-wJxPpik"
   },
   "outputs": [],
   "source": [
    "hi_texts = [\n",
    "    \"इंटेल की स्थापना 1968 में रॉबर्ट नॉयस और गॉर्डन मूरे द्वारा की गई थी।\",\n",
    "    \"इंटेल ने 1971 में पहला माइक्रोप्रोसेसर, 4004, पेश किया।\",\n",
    "    \"इंटेल का 4004 माइक्रोप्रोसेसर कंप्यूटर क्रांति का एक महत्वपूर्ण मील का पत्थर था।\",\n",
    "    \"1972 में, इंटेल ने 8008 प्रोसेसर लॉन्च किया, जो 4004 का उन्नत संस्करण था।\",\n",
    "    \"इंटेल ने 1980 के दशक में पेंटियम प्रोसेसर को पेश किया, जो कंप्यूटर प्रोसेसिंग के क्षेत्र में एक बड़ा बदलाव था।\",\n",
    "    \"इंटेल के कोर i7 प्रोसेसर ने उच्च प्रदर्शन और ऊर्जा दक्षता को एक नया मानक स्थापित किया।\",\n",
    "    \"इंटेल ने 1993 में पहला पेंटियम प्रोसेसर पेश किया, जो मल्टीटास्किंग को बेहतर बनाने में मददगार था।\",\n",
    "    \"इंटेल ने 2006 में अपनी वि‍या प्रोसेसर श्रृंखला को प्रस्तुत किया, जो कॉर्पोरेट उपयोग के लिए डिजाइन की गई थी।\",\n",
    "    \"2008 में, इंटेल ने 45nm प्रोसेस तकनीक के साथ नए प्रोसेसर पेश किए।\",\n",
    "    \"आज इंटेल की प्रौद्योगिकी डेटा सेंटर से लेकर व्यक्तिगत कंप्यूटर तक, कई क्षेत्रों में महत्वपूर्ण भूमिका निभाती है।\"\n",
    "]\n",
    "eng_texts = [\n",
    "    \"Intel was founded in 1968 by Robert Noyce and Gordon Moore.\"\n",
    "    \"In 1971, Intel introduced its first microprocessor, the 4004.\"\n",
    "    \"Intel's 4004 microprocessor was a significant milestone in the computer revolution.\"\n",
    "    \"In 1972, Intel launched the 8008 processor, which was an advanced version of the 4004.\"\n",
    "    \"In the 1980s, Intel introduced the Pentium processor, which was a major breakthrough in computer processing.\"\n",
    "    \"Intel's Core i7 processor set a new standard for high performance and energy efficiency.\"\n",
    "    \"Intel introduced the first Pentium processor in 1993, which helped improve multitasking.\"\n",
    "    \"In 2006, Intel presented its ViiA processor series, designed for corporate use.\"\n",
    "    \"In 2008, Intel introduced new processors with 45nm process technology.\"\n",
    "    \"Today, Intel's technology plays a crucial role in many areas, from data centers to personal computers.\"\n",
    "]"
   ]
  },
  {
   "cell_type": "markdown",
   "metadata": {
    "id": "YUk2JnJXRyFw"
   },
   "source": [
    "## Using Predefined Libraries"
   ]
  },
  {
   "cell_type": "code",
   "execution_count": 2,
   "metadata": {
    "colab": {
     "base_uri": "https://localhost:8080/"
    },
    "executionInfo": {
     "elapsed": 26737,
     "status": "ok",
     "timestamp": 1727237000138,
     "user": {
      "displayName": "Rishikesh Giridhar",
      "userId": "07665417154026799667"
     },
     "user_tz": -330
    },
    "id": "nzRy4_yyP0UI",
    "outputId": "8ed3e803-3f86-4032-9553-cc75f3668ecf"
   },
   "outputs": [
    {
     "name": "stdout",
     "output_type": "stream",
     "text": [
      "Requirement already satisfied: spacy in c:\\users\\prajy\\miniconda3\\lib\\site-packages (3.8.2)\n",
      "Requirement already satisfied: spacy-legacy<3.1.0,>=3.0.11 in c:\\users\\prajy\\miniconda3\\lib\\site-packages (from spacy) (3.0.12)\n",
      "Requirement already satisfied: spacy-loggers<2.0.0,>=1.0.0 in c:\\users\\prajy\\miniconda3\\lib\\site-packages (from spacy) (1.0.5)\n",
      "Requirement already satisfied: murmurhash<1.1.0,>=0.28.0 in c:\\users\\prajy\\miniconda3\\lib\\site-packages (from spacy) (1.0.10)\n",
      "Requirement already satisfied: cymem<2.1.0,>=2.0.2 in c:\\users\\prajy\\miniconda3\\lib\\site-packages (from spacy) (2.0.8)\n",
      "Requirement already satisfied: preshed<3.1.0,>=3.0.2 in c:\\users\\prajy\\miniconda3\\lib\\site-packages (from spacy) (3.0.9)\n",
      "Requirement already satisfied: thinc<8.4.0,>=8.3.0 in c:\\users\\prajy\\miniconda3\\lib\\site-packages (from spacy) (8.3.2)\n",
      "Requirement already satisfied: wasabi<1.2.0,>=0.9.1 in c:\\users\\prajy\\miniconda3\\lib\\site-packages (from spacy) (1.1.3)\n",
      "Requirement already satisfied: srsly<3.0.0,>=2.4.3 in c:\\users\\prajy\\miniconda3\\lib\\site-packages (from spacy) (2.4.8)\n",
      "Requirement already satisfied: catalogue<2.1.0,>=2.0.6 in c:\\users\\prajy\\miniconda3\\lib\\site-packages (from spacy) (2.0.10)\n",
      "Requirement already satisfied: weasel<0.5.0,>=0.1.0 in c:\\users\\prajy\\miniconda3\\lib\\site-packages (from spacy) (0.4.1)\n",
      "Requirement already satisfied: typer<1.0.0,>=0.3.0 in c:\\users\\prajy\\miniconda3\\lib\\site-packages (from spacy) (0.12.5)\n",
      "Requirement already satisfied: tqdm<5.0.0,>=4.38.0 in c:\\users\\prajy\\miniconda3\\lib\\site-packages (from spacy) (4.65.0)\n",
      "Requirement already satisfied: requests<3.0.0,>=2.13.0 in c:\\users\\prajy\\miniconda3\\lib\\site-packages (from spacy) (2.31.0)\n",
      "Requirement already satisfied: pydantic!=1.8,!=1.8.1,<3.0.0,>=1.7.4 in c:\\users\\prajy\\miniconda3\\lib\\site-packages (from spacy) (2.9.2)\n",
      "Requirement already satisfied: jinja2 in c:\\users\\prajy\\miniconda3\\lib\\site-packages (from spacy) (3.1.4)\n",
      "Requirement already satisfied: setuptools in c:\\users\\prajy\\miniconda3\\lib\\site-packages (from spacy) (68.2.2)\n",
      "Requirement already satisfied: packaging>=20.0 in c:\\users\\prajy\\miniconda3\\lib\\site-packages (from spacy) (23.1)\n",
      "Requirement already satisfied: langcodes<4.0.0,>=3.2.0 in c:\\users\\prajy\\miniconda3\\lib\\site-packages (from spacy) (3.4.1)\n",
      "Requirement already satisfied: numpy>=1.19.0 in c:\\users\\prajy\\miniconda3\\lib\\site-packages (from spacy) (2.0.2)\n",
      "Requirement already satisfied: language-data>=1.2 in c:\\users\\prajy\\miniconda3\\lib\\site-packages (from langcodes<4.0.0,>=3.2.0->spacy) (1.2.0)\n",
      "Requirement already satisfied: annotated-types>=0.6.0 in c:\\users\\prajy\\miniconda3\\lib\\site-packages (from pydantic!=1.8,!=1.8.1,<3.0.0,>=1.7.4->spacy) (0.7.0)\n",
      "Requirement already satisfied: pydantic-core==2.23.4 in c:\\users\\prajy\\miniconda3\\lib\\site-packages (from pydantic!=1.8,!=1.8.1,<3.0.0,>=1.7.4->spacy) (2.23.4)\n",
      "Requirement already satisfied: typing-extensions>=4.6.1 in c:\\users\\prajy\\miniconda3\\lib\\site-packages (from pydantic!=1.8,!=1.8.1,<3.0.0,>=1.7.4->spacy) (4.12.2)\n",
      "Requirement already satisfied: charset-normalizer<4,>=2 in c:\\users\\prajy\\miniconda3\\lib\\site-packages (from requests<3.0.0,>=2.13.0->spacy) (2.0.4)\n",
      "Requirement already satisfied: idna<4,>=2.5 in c:\\users\\prajy\\miniconda3\\lib\\site-packages (from requests<3.0.0,>=2.13.0->spacy) (3.4)\n",
      "Requirement already satisfied: urllib3<3,>=1.21.1 in c:\\users\\prajy\\miniconda3\\lib\\site-packages (from requests<3.0.0,>=2.13.0->spacy) (2.1.0)\n",
      "Requirement already satisfied: certifi>=2017.4.17 in c:\\users\\prajy\\miniconda3\\lib\\site-packages (from requests<3.0.0,>=2.13.0->spacy) (2024.8.30)\n",
      "Requirement already satisfied: blis<1.1.0,>=1.0.0 in c:\\users\\prajy\\miniconda3\\lib\\site-packages (from thinc<8.4.0,>=8.3.0->spacy) (1.0.1)\n",
      "Requirement already satisfied: confection<1.0.0,>=0.0.1 in c:\\users\\prajy\\miniconda3\\lib\\site-packages (from thinc<8.4.0,>=8.3.0->spacy) (0.1.5)\n",
      "Requirement already satisfied: colorama in c:\\users\\prajy\\miniconda3\\lib\\site-packages (from tqdm<5.0.0,>=4.38.0->spacy) (0.4.6)\n",
      "Requirement already satisfied: click>=8.0.0 in c:\\users\\prajy\\miniconda3\\lib\\site-packages (from typer<1.0.0,>=0.3.0->spacy) (8.1.7)\n",
      "Requirement already satisfied: shellingham>=1.3.0 in c:\\users\\prajy\\miniconda3\\lib\\site-packages (from typer<1.0.0,>=0.3.0->spacy) (1.5.4)\n",
      "Requirement already satisfied: rich>=10.11.0 in c:\\users\\prajy\\miniconda3\\lib\\site-packages (from typer<1.0.0,>=0.3.0->spacy) (13.9.4)\n",
      "Requirement already satisfied: cloudpathlib<1.0.0,>=0.7.0 in c:\\users\\prajy\\miniconda3\\lib\\site-packages (from weasel<0.5.0,>=0.1.0->spacy) (0.20.0)\n",
      "Requirement already satisfied: smart-open<8.0.0,>=5.2.1 in c:\\users\\prajy\\miniconda3\\lib\\site-packages (from weasel<0.5.0,>=0.1.0->spacy) (7.0.5)\n",
      "Requirement already satisfied: MarkupSafe>=2.0 in c:\\users\\prajy\\miniconda3\\lib\\site-packages (from jinja2->spacy) (3.0.2)\n",
      "Requirement already satisfied: marisa-trie>=0.7.7 in c:\\users\\prajy\\miniconda3\\lib\\site-packages (from language-data>=1.2->langcodes<4.0.0,>=3.2.0->spacy) (1.2.1)\n",
      "Requirement already satisfied: markdown-it-py>=2.2.0 in c:\\users\\prajy\\miniconda3\\lib\\site-packages (from rich>=10.11.0->typer<1.0.0,>=0.3.0->spacy) (3.0.0)\n",
      "Requirement already satisfied: pygments<3.0.0,>=2.13.0 in c:\\users\\prajy\\miniconda3\\lib\\site-packages (from rich>=10.11.0->typer<1.0.0,>=0.3.0->spacy) (2.18.0)\n",
      "Requirement already satisfied: wrapt in c:\\users\\prajy\\miniconda3\\lib\\site-packages (from smart-open<8.0.0,>=5.2.1->weasel<0.5.0,>=0.1.0->spacy) (1.16.0)\n",
      "Requirement already satisfied: mdurl~=0.1 in c:\\users\\prajy\\miniconda3\\lib\\site-packages (from markdown-it-py>=2.2.0->rich>=10.11.0->typer<1.0.0,>=0.3.0->spacy) (0.1.2)\n",
      "Requirement already satisfied: nltk in c:\\users\\prajy\\miniconda3\\lib\\site-packages (3.9.1)\n",
      "Requirement already satisfied: click in c:\\users\\prajy\\miniconda3\\lib\\site-packages (from nltk) (8.1.7)\n",
      "Requirement already satisfied: joblib in c:\\users\\prajy\\miniconda3\\lib\\site-packages (from nltk) (1.4.2)\n",
      "Requirement already satisfied: regex>=2021.8.3 in c:\\users\\prajy\\miniconda3\\lib\\site-packages (from nltk) (2024.9.11)\n",
      "Requirement already satisfied: tqdm in c:\\users\\prajy\\miniconda3\\lib\\site-packages (from nltk) (4.65.0)\n",
      "Requirement already satisfied: colorama in c:\\users\\prajy\\miniconda3\\lib\\site-packages (from click->nltk) (0.4.6)\n",
      "Collecting en-core-web-sm==3.8.0\n",
      "  Downloading https://github.com/explosion/spacy-models/releases/download/en_core_web_sm-3.8.0/en_core_web_sm-3.8.0-py3-none-any.whl (12.8 MB)\n",
      "     ---------------------------------------- 0.0/12.8 MB ? eta -:--:--\n",
      "     ---------------------------------------- 0.0/12.8 MB 1.9 MB/s eta 0:00:07\n",
      "      --------------------------------------- 0.2/12.8 MB 2.0 MB/s eta 0:00:07\n",
      "      --------------------------------------- 0.3/12.8 MB 2.8 MB/s eta 0:00:05\n",
      "     - -------------------------------------- 0.5/12.8 MB 2.6 MB/s eta 0:00:05\n",
      "     -- ------------------------------------- 0.8/12.8 MB 3.7 MB/s eta 0:00:04\n",
      "     --- ------------------------------------ 1.1/12.8 MB 4.4 MB/s eta 0:00:03\n",
      "     ---- ----------------------------------- 1.4/12.8 MB 4.7 MB/s eta 0:00:03\n",
      "     ---- ----------------------------------- 1.5/12.8 MB 4.5 MB/s eta 0:00:03\n",
      "     ----- ---------------------------------- 1.7/12.8 MB 4.4 MB/s eta 0:00:03\n",
      "     ------ --------------------------------- 2.0/12.8 MB 4.6 MB/s eta 0:00:03\n",
      "     ------- -------------------------------- 2.3/12.8 MB 4.7 MB/s eta 0:00:03\n",
      "     ------- -------------------------------- 2.5/12.8 MB 4.7 MB/s eta 0:00:03\n",
      "     -------- ------------------------------- 2.8/12.8 MB 4.8 MB/s eta 0:00:03\n",
      "     --------- ------------------------------ 3.0/12.8 MB 4.8 MB/s eta 0:00:03\n",
      "     ---------- ----------------------------- 3.3/12.8 MB 4.9 MB/s eta 0:00:02\n",
      "     ----------- ---------------------------- 3.5/12.8 MB 4.9 MB/s eta 0:00:02\n",
      "     ----------- ---------------------------- 3.8/12.8 MB 5.1 MB/s eta 0:00:02\n",
      "     ------------ --------------------------- 4.1/12.8 MB 5.1 MB/s eta 0:00:02\n",
      "     ------------- -------------------------- 4.3/12.8 MB 5.1 MB/s eta 0:00:02\n",
      "     ------------- -------------------------- 4.4/12.8 MB 5.0 MB/s eta 0:00:02\n",
      "     -------------- ------------------------- 4.7/12.8 MB 5.0 MB/s eta 0:00:02\n",
      "     --------------- ------------------------ 5.0/12.8 MB 5.1 MB/s eta 0:00:02\n",
      "     ---------------- ----------------------- 5.2/12.8 MB 5.1 MB/s eta 0:00:02\n",
      "     ----------------- ---------------------- 5.5/12.8 MB 5.1 MB/s eta 0:00:02\n",
      "     ----------------- ---------------------- 5.7/12.8 MB 5.2 MB/s eta 0:00:02\n",
      "     ------------------ --------------------- 5.9/12.8 MB 5.1 MB/s eta 0:00:02\n",
      "     ------------------ --------------------- 6.1/12.8 MB 5.1 MB/s eta 0:00:02\n",
      "     ------------------- -------------------- 6.3/12.8 MB 5.1 MB/s eta 0:00:02\n",
      "     -------------------- ------------------- 6.5/12.8 MB 5.1 MB/s eta 0:00:02\n",
      "     -------------------- ------------------- 6.7/12.8 MB 5.0 MB/s eta 0:00:02\n",
      "     --------------------- ------------------ 6.9/12.8 MB 5.0 MB/s eta 0:00:02\n",
      "     ---------------------- ----------------- 7.1/12.8 MB 5.1 MB/s eta 0:00:02\n",
      "     ---------------------- ----------------- 7.3/12.8 MB 5.0 MB/s eta 0:00:02\n",
      "     ----------------------- ---------------- 7.5/12.8 MB 5.0 MB/s eta 0:00:02\n",
      "     ------------------------ --------------- 7.7/12.8 MB 5.0 MB/s eta 0:00:02\n",
      "     ------------------------ --------------- 7.9/12.8 MB 5.0 MB/s eta 0:00:01\n",
      "     ------------------------- -------------- 8.2/12.8 MB 5.0 MB/s eta 0:00:01\n",
      "     -------------------------- ------------- 8.4/12.8 MB 5.0 MB/s eta 0:00:01\n",
      "     -------------------------- ------------- 8.6/12.8 MB 5.0 MB/s eta 0:00:01\n",
      "     --------------------------- ------------ 8.9/12.8 MB 5.0 MB/s eta 0:00:01\n",
      "     ---------------------------- ----------- 9.1/12.8 MB 5.0 MB/s eta 0:00:01\n",
      "     ----------------------------- ---------- 9.4/12.8 MB 5.0 MB/s eta 0:00:01\n",
      "     ----------------------------- ---------- 9.6/12.8 MB 5.0 MB/s eta 0:00:01\n",
      "     ------------------------------ --------- 9.8/12.8 MB 5.0 MB/s eta 0:00:01\n",
      "     ------------------------------- -------- 10.1/12.8 MB 5.0 MB/s eta 0:00:01\n",
      "     -------------------------------- ------- 10.3/12.8 MB 5.2 MB/s eta 0:00:01\n",
      "     -------------------------------- ------- 10.5/12.8 MB 5.2 MB/s eta 0:00:01\n",
      "     --------------------------------- ------ 10.8/12.8 MB 5.2 MB/s eta 0:00:01\n",
      "     --------------------------------- ------ 10.9/12.8 MB 5.2 MB/s eta 0:00:01\n",
      "     ---------------------------------- ----- 11.1/12.8 MB 5.2 MB/s eta 0:00:01\n",
      "     ----------------------------------- ---- 11.2/12.8 MB 5.0 MB/s eta 0:00:01\n",
      "     ----------------------------------- ---- 11.3/12.8 MB 5.0 MB/s eta 0:00:01\n",
      "     ----------------------------------- ---- 11.4/12.8 MB 4.9 MB/s eta 0:00:01\n",
      "     ------------------------------------ --- 11.6/12.8 MB 4.8 MB/s eta 0:00:01\n",
      "     ------------------------------------ --- 11.7/12.8 MB 4.8 MB/s eta 0:00:01\n",
      "     ------------------------------------- -- 11.9/12.8 MB 4.8 MB/s eta 0:00:01\n",
      "     ------------------------------------- -- 12.0/12.8 MB 4.7 MB/s eta 0:00:01\n",
      "     ------------------------------------- -- 12.1/12.8 MB 4.7 MB/s eta 0:00:01\n",
      "     -------------------------------------- - 12.3/12.8 MB 4.6 MB/s eta 0:00:01\n",
      "     -------------------------------------- - 12.4/12.8 MB 4.6 MB/s eta 0:00:01\n",
      "     ---------------------------------------  12.6/12.8 MB 4.5 MB/s eta 0:00:01\n",
      "     ---------------------------------------  12.7/12.8 MB 4.5 MB/s eta 0:00:01\n",
      "     ---------------------------------------- 12.8/12.8 MB 4.5 MB/s eta 0:00:00\n",
      "Installing collected packages: en-core-web-sm\n",
      "Successfully installed en-core-web-sm-3.8.0\n",
      "\u001b[38;5;2m✔ Download and installation successful\u001b[0m\n",
      "You can now load the package via spacy.load('en_core_web_sm')\n"
     ]
    }
   ],
   "source": [
    "!pip install spacy\n",
    "!pip install nltk\n",
    "!python -m spacy download en_core_web_sm"
   ]
  },
  {
   "cell_type": "code",
   "execution_count": 3,
   "metadata": {
    "executionInfo": {
     "elapsed": 5032,
     "status": "ok",
     "timestamp": 1727237005168,
     "user": {
      "displayName": "Rishikesh Giridhar",
      "userId": "07665417154026799667"
     },
     "user_tz": -330
    },
    "id": "LJILVInASOow"
   },
   "outputs": [],
   "source": [
    "import pandas as pd\n",
    "import spacy\n",
    "import requests"
   ]
  },
  {
   "cell_type": "code",
   "execution_count": 4,
   "metadata": {
    "executionInfo": {
     "elapsed": 2071,
     "status": "ok",
     "timestamp": 1727237007236,
     "user": {
      "displayName": "Rishikesh Giridhar",
      "userId": "07665417154026799667"
     },
     "user_tz": -330
    },
    "id": "1dAptmqbR2sn"
   },
   "outputs": [],
   "source": [
    "ner = spacy.load(\"en_core_web_sm\")"
   ]
  },
  {
   "cell_type": "code",
   "execution_count": 5,
   "metadata": {
    "colab": {
     "base_uri": "https://localhost:8080/"
    },
    "executionInfo": {
     "elapsed": 2,
     "status": "ok",
     "timestamp": 1727237007236,
     "user": {
      "displayName": "Rishikesh Giridhar",
      "userId": "07665417154026799667"
     },
     "user_tz": -330
    },
    "id": "Uvt32ml4SPV4",
    "outputId": "3e3fab7b-de62-4cb3-92ca-ec513200e009"
   },
   "outputs": [
    {
     "name": "stdout",
     "output_type": "stream",
     "text": [
      "Intel 0 5 ORG\n",
      "\n",
      "\n",
      "1968 21 25 DATE\n",
      "\n",
      "\n",
      "Robert Noyce 29 41 PERSON\n",
      "\n",
      "\n",
      "Gordon Moore 46 58 PERSON\n",
      "\n",
      "\n",
      "1971 62 66 DATE\n",
      "\n",
      "\n",
      "Intel 68 73 ORG\n",
      "\n",
      "\n",
      "first 89 94 ORDINAL\n",
      "\n",
      "\n",
      "4004.Intel 115 125 ORG\n",
      "\n",
      "\n",
      "4004 128 132 DATE\n",
      "\n",
      "\n",
      "1972 206 210 DATE\n",
      "\n",
      "\n",
      "Intel 212 217 ORG\n",
      "\n",
      "\n",
      "8008 231 235 DATE\n",
      "\n",
      "\n",
      "the 1980s 292 301 DATE\n",
      "\n",
      "\n",
      "Intel 303 308 ORG\n",
      "\n",
      "\n",
      "Pentium 324 331 ORG\n",
      "\n",
      "\n",
      "Intel 397 402 ORG\n",
      "\n",
      "\n",
      "Intel 485 490 ORG\n",
      "\n",
      "\n",
      "first 506 511 ORDINAL\n",
      "\n",
      "\n",
      "1993 533 537 DATE\n",
      "\n",
      "\n",
      "2006 576 580 DATE\n",
      "\n",
      "\n",
      "Intel 582 587 ORG\n",
      "\n",
      "\n",
      "2008 655 659 DATE\n",
      "\n",
      "\n",
      "Intel 661 666 ORG\n",
      "\n",
      "\n",
      "45 698 700 CARDINAL\n",
      "\n",
      "\n",
      "Today 722 727 DATE\n",
      "\n",
      "\n",
      "Intel 729 734 ORG\n",
      "\n",
      "\n"
     ]
    }
   ],
   "source": [
    "for eng_texts in eng_texts:\n",
    "  disp = ner(eng_texts)\n",
    "  for ent in disp.ents:\n",
    "      print(ent.text, ent.start_char, ent.end_char, ent.label_)\n",
    "      print(\"\\n\")"
   ]
  },
  {
   "cell_type": "markdown",
   "metadata": {
    "id": "fCh-afBWUwLt"
   },
   "source": [
    "## Using NLTK instead of Spacy"
   ]
  },
  {
   "cell_type": "code",
   "execution_count": 6,
   "metadata": {
    "executionInfo": {
     "elapsed": 2309,
     "status": "ok",
     "timestamp": 1727237009543,
     "user": {
      "displayName": "Rishikesh Giridhar",
      "userId": "07665417154026799667"
     },
     "user_tz": -330
    },
    "id": "a-5diG-ET9aH"
   },
   "outputs": [],
   "source": [
    "import nltk\n",
    "from nltk.tokenize import word_tokenize\n",
    "from nltk.tag import pos_tag"
   ]
  },
  {
   "cell_type": "code",
   "execution_count": 7,
   "metadata": {
    "colab": {
     "base_uri": "https://localhost:8080/"
    },
    "executionInfo": {
     "elapsed": 10,
     "status": "ok",
     "timestamp": 1727237009544,
     "user": {
      "displayName": "Rishikesh Giridhar",
      "userId": "07665417154026799667"
     },
     "user_tz": -330
    },
    "id": "Oaeo9rRjVHLG",
    "outputId": "bb06dc62-6e44-4d76-f996-1fe8b0556f41"
   },
   "outputs": [
    {
     "name": "stderr",
     "output_type": "stream",
     "text": [
      "[nltk_data] Downloading package punkt to\n",
      "[nltk_data]     C:\\Users\\prajy\\AppData\\Roaming\\nltk_data...\n",
      "[nltk_data]   Package punkt is already up-to-date!\n",
      "[nltk_data] Downloading package wordnet to\n",
      "[nltk_data]     C:\\Users\\prajy\\AppData\\Roaming\\nltk_data...\n",
      "[nltk_data]   Package wordnet is already up-to-date!\n",
      "[nltk_data] Downloading package averaged_perceptron_tagger to\n",
      "[nltk_data]     C:\\Users\\prajy\\AppData\\Roaming\\nltk_data...\n",
      "[nltk_data]   Package averaged_perceptron_tagger is already up-to-\n",
      "[nltk_data]       date!\n"
     ]
    },
    {
     "data": {
      "text/plain": [
       "True"
      ]
     },
     "execution_count": 7,
     "metadata": {},
     "output_type": "execute_result"
    }
   ],
   "source": [
    "nltk.download(\"punkt\")\n",
    "nltk.download(\"wordnet\")\n",
    "nltk.download('averaged_perceptron_tagger')"
   ]
  },
  {
   "cell_type": "code",
   "execution_count": 8,
   "metadata": {
    "executionInfo": {
     "elapsed": 458,
     "status": "ok",
     "timestamp": 1727237068992,
     "user": {
      "displayName": "Rishikesh Giridhar",
      "userId": "07665417154026799667"
     },
     "user_tz": -330
    },
    "id": "Jqqa69YrU7PA"
   },
   "outputs": [],
   "source": [
    "def preprocess(eng_texts):\n",
    "  tokens = word_tokenize(eng_texts)\n",
    "  tagged = pos_tag(tokens)\n",
    "  return tagged\n",
    "for eng_texts in eng_texts:\n",
    "  tagged = preprocess(eng_texts)\n"
   ]
  },
  {
   "cell_type": "code",
   "execution_count": null,
   "metadata": {
    "colab": {
     "base_uri": "https://localhost:8080/"
    },
    "executionInfo": {
     "elapsed": 654,
     "status": "ok",
     "timestamp": 1727237027034,
     "user": {
      "displayName": "Rishikesh Giridhar",
      "userId": "07665417154026799667"
     },
     "user_tz": -330
    },
    "id": "aeWvzIzlVFcf",
    "outputId": "61ee4581-14ca-44c1-c218-e37e1a7761fd"
   },
   "outputs": [],
   "source": []
  }
 ],
 "metadata": {
  "colab": {
   "authorship_tag": "ABX9TyOMayy5NZ3Gz8SJXKeqeijS",
   "provenance": []
  },
  "kernelspec": {
   "display_name": "base",
   "language": "python",
   "name": "python3"
  },
  "language_info": {
   "codemirror_mode": {
    "name": "ipython",
    "version": 3
   },
   "file_extension": ".py",
   "mimetype": "text/x-python",
   "name": "python",
   "nbconvert_exporter": "python",
   "pygments_lexer": "ipython3",
   "version": "3.12.2"
  }
 },
 "nbformat": 4,
 "nbformat_minor": 0
}
